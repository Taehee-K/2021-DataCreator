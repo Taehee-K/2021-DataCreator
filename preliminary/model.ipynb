{
  "nbformat": 4,
  "nbformat_minor": 0,
  "metadata": {
    "kernelspec": {
      "display_name": "Python 3",
      "language": "python",
      "name": "python3"
    },
    "language_info": {
      "codemirror_mode": {
        "name": "ipython",
        "version": 3
      },
      "file_extension": ".py",
      "mimetype": "text/x-python",
      "name": "python",
      "nbconvert_exporter": "python",
      "pygments_lexer": "ipython3",
      "version": "3.9.4"
    },
    "toc": {
      "base_numbering": 1,
      "nav_menu": {},
      "number_sections": true,
      "sideBar": true,
      "skip_h1_title": false,
      "title_cell": "Table of Contents",
      "title_sidebar": "Contents",
      "toc_cell": false,
      "toc_position": {},
      "toc_section_display": true,
      "toc_window_display": true
    },
    "colab": {
      "name": "정리_model.ipynb",
      "provenance": [],
      "collapsed_sections": [],
      "toc_visible": true,
      "machine_shape": "hm"
    },
    "accelerator": "GPU"
  },
  "cells": [
    {
      "cell_type": "markdown",
      "metadata": {
        "id": "7ZL_eAUyQNpb"
      },
      "source": [
        "# 문제 설명"
      ]
    },
    {
      "cell_type": "markdown",
      "metadata": {
        "id": "2pXB9pn8QNpc"
      },
      "source": [
        "서울시에서 2015년 부터 시행한 무인 공공자전거 대여 서비스 “따릉이”는 해가 지날수록 이용하는 시민이 늘어나는 추세입니다. 하지만 2020년 9월 서울환경연합에서 진행한 ‘[자전거 이용에 관한 설문조사](http://ecoseoul.or.kr/archives/41430)’에 따르면 조사 대상 2700명 중 27%의 응답자는 따릉이 이용 시 가장 불편한 점을 대여시 따릉이가 부족한 점을 지적하였습니다. 이를 해소하기 위해 2017년부터 1월부터 2018년 11월 날씨와 따릉이 이용량 정보를 활용하여 정확한 수요량을 예측하고자 합니다.\n",
        "머신러닝의 회귀 기법을 활용하여 각 날짜에 해당하는 따릉이 대여량을 예측해보세요.\n"
      ]
    },
    {
      "cell_type": "markdown",
      "metadata": {
        "id": "maRPDq-1RMCU"
      },
      "source": [
        "## Google Drive 연동"
      ]
    },
    {
      "cell_type": "code",
      "metadata": {
        "id": "0ApqdM_zRGwB",
        "colab": {
          "base_uri": "https://localhost:8080/"
        },
        "outputId": "a0626cc9-6b10-4875-bdd2-cea414109d4a"
      },
      "source": [
        "from google.colab import drive\n",
        "drive.mount('/content/drive')"
      ],
      "execution_count": null,
      "outputs": [
        {
          "output_type": "stream",
          "name": "stdout",
          "text": [
            "Mounted at /content/drive\n"
          ]
        }
      ]
    },
    {
      "cell_type": "code",
      "metadata": {
        "id": "LoKo_9BJL7Wk"
      },
      "source": [
        "import os \n",
        "os.chdir('/content/drive/MyDrive/잠자리/데이터크리에이터/예선/')"
      ],
      "execution_count": null,
      "outputs": []
    },
    {
      "cell_type": "markdown",
      "metadata": {
        "id": "xoAPskQGQNpc"
      },
      "source": [
        "## 라이브러리 불러오기"
      ]
    },
    {
      "cell_type": "code",
      "metadata": {
        "colab": {
          "base_uri": "https://localhost:8080/"
        },
        "id": "XsLx0BmTMUBz",
        "outputId": "1560c4a0-cb60-4e6f-c34f-24444ab76fa2"
      },
      "source": [
        "!pip install optuna -q"
      ],
      "execution_count": null,
      "outputs": [
        {
          "output_type": "stream",
          "name": "stdout",
          "text": [
            "\u001b[?25l\r\u001b[K     |█                               | 10 kB 38.6 MB/s eta 0:00:01\r\u001b[K     |██▏                             | 20 kB 8.6 MB/s eta 0:00:01\r\u001b[K     |███▏                            | 30 kB 7.8 MB/s eta 0:00:01\r\u001b[K     |████▎                           | 40 kB 7.4 MB/s eta 0:00:01\r\u001b[K     |█████▎                          | 51 kB 4.0 MB/s eta 0:00:01\r\u001b[K     |██████▍                         | 61 kB 4.3 MB/s eta 0:00:01\r\u001b[K     |███████▍                        | 71 kB 4.3 MB/s eta 0:00:01\r\u001b[K     |████████▌                       | 81 kB 4.9 MB/s eta 0:00:01\r\u001b[K     |█████████▋                      | 92 kB 5.1 MB/s eta 0:00:01\r\u001b[K     |██████████▋                     | 102 kB 4.0 MB/s eta 0:00:01\r\u001b[K     |███████████▊                    | 112 kB 4.0 MB/s eta 0:00:01\r\u001b[K     |████████████▊                   | 122 kB 4.0 MB/s eta 0:00:01\r\u001b[K     |█████████████▉                  | 133 kB 4.0 MB/s eta 0:00:01\r\u001b[K     |██████████████▉                 | 143 kB 4.0 MB/s eta 0:00:01\r\u001b[K     |████████████████                | 153 kB 4.0 MB/s eta 0:00:01\r\u001b[K     |█████████████████               | 163 kB 4.0 MB/s eta 0:00:01\r\u001b[K     |██████████████████              | 174 kB 4.0 MB/s eta 0:00:01\r\u001b[K     |███████████████████▏            | 184 kB 4.0 MB/s eta 0:00:01\r\u001b[K     |████████████████████▏           | 194 kB 4.0 MB/s eta 0:00:01\r\u001b[K     |█████████████████████▎          | 204 kB 4.0 MB/s eta 0:00:01\r\u001b[K     |██████████████████████▎         | 215 kB 4.0 MB/s eta 0:00:01\r\u001b[K     |███████████████████████▍        | 225 kB 4.0 MB/s eta 0:00:01\r\u001b[K     |████████████████████████▌       | 235 kB 4.0 MB/s eta 0:00:01\r\u001b[K     |█████████████████████████▌      | 245 kB 4.0 MB/s eta 0:00:01\r\u001b[K     |██████████████████████████▋     | 256 kB 4.0 MB/s eta 0:00:01\r\u001b[K     |███████████████████████████▋    | 266 kB 4.0 MB/s eta 0:00:01\r\u001b[K     |████████████████████████████▊   | 276 kB 4.0 MB/s eta 0:00:01\r\u001b[K     |█████████████████████████████▊  | 286 kB 4.0 MB/s eta 0:00:01\r\u001b[K     |██████████████████████████████▉ | 296 kB 4.0 MB/s eta 0:00:01\r\u001b[K     |████████████████████████████████| 307 kB 4.0 MB/s eta 0:00:01\r\u001b[K     |████████████████████████████████| 308 kB 4.0 MB/s \n",
            "\u001b[K     |████████████████████████████████| 80 kB 9.9 MB/s \n",
            "\u001b[K     |████████████████████████████████| 209 kB 87.2 MB/s \n",
            "\u001b[K     |████████████████████████████████| 75 kB 5.5 MB/s \n",
            "\u001b[K     |████████████████████████████████| 49 kB 7.1 MB/s \n",
            "\u001b[K     |████████████████████████████████| 111 kB 73.4 MB/s \n",
            "\u001b[K     |████████████████████████████████| 144 kB 90.9 MB/s \n",
            "\u001b[?25h  Building wheel for pyperclip (setup.py) ... \u001b[?25l\u001b[?25hdone\n"
          ]
        }
      ]
    },
    {
      "cell_type": "code",
      "metadata": {
        "ExecuteTime": {
          "end_time": "2021-07-12T09:17:19.788235Z",
          "start_time": "2021-07-12T09:17:17.965444Z"
        },
        "id": "c3lhAVmVQNpc"
      },
      "source": [
        "# MISC\n",
        "from datetime import datetime\n",
        "import numpy as np\n",
        "import pandas as pd\n",
        "import matplotlib.pyplot as plt\n",
        "import seaborn as sns; sns.set_theme()\n",
        "\n",
        "# PREPROCESS\n",
        "import missingno as msno\n",
        "from sklearn.preprocessing import MinMaxScaler, StandardScaler\n",
        "\n",
        "# MODELING\n",
        "from sklearn.model_selection import train_test_split\n",
        "from sklearn.linear_model import LinearRegression\n",
        "from sklearn.neural_network import MLPRegressor\n",
        "from lightgbm import LGBMRegressor\n",
        "from xgboost import XGBRegressor \n",
        "from sklearn.ensemble import VotingRegressor\n",
        "\n",
        "# EVALUATE\n",
        "from sklearn.metrics import r2_score"
      ],
      "execution_count": null,
      "outputs": []
    },
    {
      "cell_type": "markdown",
      "metadata": {
        "id": "Gg4ejGcAQNpc"
      },
      "source": [
        "## 데이터 불러오기\n"
      ]
    },
    {
      "cell_type": "code",
      "metadata": {
        "ExecuteTime": {
          "end_time": "2021-07-12T09:17:19.834699Z",
          "start_time": "2021-07-12T09:17:19.789234Z"
        },
        "id": "icvGZYOBQNpc"
      },
      "source": [
        "df = pd.read_csv('./train.csv')\n",
        "df = df.sort_values(by=['Date', 'Hour']).reset_index(drop=True)"
      ],
      "execution_count": null,
      "outputs": []
    },
    {
      "cell_type": "markdown",
      "metadata": {
        "id": "G868E6pfQNpd"
      },
      "source": [
        "# 전처리"
      ]
    },
    {
      "cell_type": "markdown",
      "metadata": {
        "ExecuteTime": {
          "end_time": "2021-07-12T06:44:45.757980Z",
          "start_time": "2021-07-12T06:44:45.736980Z"
        },
        "id": "7zlcjDEwQNpf"
      },
      "source": [
        "### 결측치 채우기"
      ]
    },
    {
      "cell_type": "code",
      "metadata": {
        "ExecuteTime": {
          "end_time": "2021-07-12T09:17:22.342216Z",
          "start_time": "2021-07-12T09:17:22.327704Z"
        },
        "id": "GH01kWT5QNpg"
      },
      "source": [
        "df_fillna = df.drop(['Rent Amount'], axis=1)"
      ],
      "execution_count": null,
      "outputs": []
    },
    {
      "cell_type": "code",
      "metadata": {
        "ExecuteTime": {
          "end_time": "2021-07-12T09:17:22.357216Z",
          "start_time": "2021-07-12T09:17:22.344185Z"
        },
        "id": "b8gEcgWiQNpg"
      },
      "source": [
        "cols = ['Temperature', 'Dewpoint']\n",
        "df_fillna[cols] = df_fillna[cols].interpolate('nearest')"
      ],
      "execution_count": null,
      "outputs": []
    },
    {
      "cell_type": "code",
      "metadata": {
        "ExecuteTime": {
          "end_time": "2021-07-12T09:17:22.373184Z",
          "start_time": "2021-07-12T09:17:22.358186Z"
        },
        "id": "cxg7khb3QNpg"
      },
      "source": [
        "cols = ['Windspeed']\n",
        "df_fillna[cols] = df_fillna[cols].fillna(df_fillna[cols].mean())"
      ],
      "execution_count": null,
      "outputs": []
    },
    {
      "cell_type": "code",
      "metadata": {
        "ExecuteTime": {
          "end_time": "2021-07-12T09:17:22.389182Z",
          "start_time": "2021-07-12T09:17:22.374183Z"
        },
        "id": "1uESib2PQNpg"
      },
      "source": [
        "cols = ['Rainfall', 'Snow']\n",
        "df_fillna[cols] = df_fillna[cols].fillna(0)"
      ],
      "execution_count": null,
      "outputs": []
    },
    {
      "cell_type": "code",
      "metadata": {
        "ExecuteTime": {
          "end_time": "2021-07-12T09:17:22.421184Z",
          "start_time": "2021-07-12T09:17:22.390183Z"
        },
        "colab": {
          "base_uri": "https://localhost:8080/"
        },
        "id": "gAcIiie7QNph",
        "outputId": "e9486f9f-93b6-488c-ab66-6d77ba30d422"
      },
      "source": [
        "# 결측치 잘 처리되었는지 확인\n",
        "df_fillna.isna().sum()"
      ],
      "execution_count": null,
      "outputs": [
        {
          "output_type": "execute_result",
          "data": {
            "text/plain": [
              "Date           0\n",
              "Hour           0\n",
              "Temperature    0\n",
              "Rainfall       0\n",
              "Windspeed      0\n",
              "Humidity       0\n",
              "Dewpoint       0\n",
              "Snow           0\n",
              "Visibility     0\n",
              "dtype: int64"
            ]
          },
          "metadata": {},
          "execution_count": 18
        }
      ]
    },
    {
      "cell_type": "markdown",
      "metadata": {
        "id": "cNVW46IMQNph"
      },
      "source": [
        "## 스케일링"
      ]
    },
    {
      "cell_type": "code",
      "metadata": {
        "ExecuteTime": {
          "end_time": "2021-07-12T09:17:22.723202Z",
          "start_time": "2021-07-12T09:17:22.677047Z"
        },
        "colab": {
          "base_uri": "https://localhost:8080/",
          "height": 424
        },
        "id": "pybQcSfkQNpi",
        "outputId": "59964eac-35be-4809-cbec-b2f6fa5f7d85"
      },
      "source": [
        "# 0. Import\n",
        "from sklearn.preprocessing import MinMaxScaler\n",
        "\n",
        "# *MinMax scaling된 결과는 따로 저장해둡시다.\n",
        "df_minmax = df_fillna.copy()\n",
        "cols = [c for c in df.columns if c not in ['Date', 'Rent Amount']]\n",
        "\n",
        "# 1. 인스턴스 생성\n",
        "scaler = MinMaxScaler()\n",
        "\n",
        "# 2. fit\n",
        "scaler.fit(df_fillna[cols].values)\n",
        "\n",
        "# 3. transform\n",
        "df_minmax[cols] = scaler.transform(df_fillna[cols].values)\n",
        "\n",
        "# 결과 확인\n",
        "df_minmax"
      ],
      "execution_count": null,
      "outputs": [
        {
          "output_type": "execute_result",
          "data": {
            "text/html": [
              "<div>\n",
              "<style scoped>\n",
              "    .dataframe tbody tr th:only-of-type {\n",
              "        vertical-align: middle;\n",
              "    }\n",
              "\n",
              "    .dataframe tbody tr th {\n",
              "        vertical-align: top;\n",
              "    }\n",
              "\n",
              "    .dataframe thead th {\n",
              "        text-align: right;\n",
              "    }\n",
              "</style>\n",
              "<table border=\"1\" class=\"dataframe\">\n",
              "  <thead>\n",
              "    <tr style=\"text-align: right;\">\n",
              "      <th></th>\n",
              "      <th>Date</th>\n",
              "      <th>Hour</th>\n",
              "      <th>Temperature</th>\n",
              "      <th>Rainfall</th>\n",
              "      <th>Windspeed</th>\n",
              "      <th>Humidity</th>\n",
              "      <th>Dewpoint</th>\n",
              "      <th>Snow</th>\n",
              "      <th>Visibility</th>\n",
              "    </tr>\n",
              "  </thead>\n",
              "  <tbody>\n",
              "    <tr>\n",
              "      <th>0</th>\n",
              "      <td>2019-06-01</td>\n",
              "      <td>0.000000</td>\n",
              "      <td>0.584677</td>\n",
              "      <td>0.0</td>\n",
              "      <td>0.1625</td>\n",
              "      <td>0.584270</td>\n",
              "      <td>0.635135</td>\n",
              "      <td>0.0</td>\n",
              "      <td>0.397026</td>\n",
              "    </tr>\n",
              "    <tr>\n",
              "      <th>1</th>\n",
              "      <td>2019-06-01</td>\n",
              "      <td>0.043478</td>\n",
              "      <td>0.572581</td>\n",
              "      <td>0.0</td>\n",
              "      <td>0.1875</td>\n",
              "      <td>0.651685</td>\n",
              "      <td>0.650579</td>\n",
              "      <td>0.0</td>\n",
              "      <td>0.335544</td>\n",
              "    </tr>\n",
              "    <tr>\n",
              "      <th>2</th>\n",
              "      <td>2019-06-01</td>\n",
              "      <td>0.086957</td>\n",
              "      <td>0.568548</td>\n",
              "      <td>0.0</td>\n",
              "      <td>0.2000</td>\n",
              "      <td>0.707865</td>\n",
              "      <td>0.666023</td>\n",
              "      <td>0.0</td>\n",
              "      <td>0.222825</td>\n",
              "    </tr>\n",
              "    <tr>\n",
              "      <th>3</th>\n",
              "      <td>2019-06-01</td>\n",
              "      <td>0.130435</td>\n",
              "      <td>0.562500</td>\n",
              "      <td>0.0</td>\n",
              "      <td>0.1875</td>\n",
              "      <td>0.775281</td>\n",
              "      <td>0.683398</td>\n",
              "      <td>0.0</td>\n",
              "      <td>0.166968</td>\n",
              "    </tr>\n",
              "    <tr>\n",
              "      <th>4</th>\n",
              "      <td>2019-06-01</td>\n",
              "      <td>0.173913</td>\n",
              "      <td>0.566532</td>\n",
              "      <td>0.0</td>\n",
              "      <td>0.2250</td>\n",
              "      <td>0.752809</td>\n",
              "      <td>0.679537</td>\n",
              "      <td>0.0</td>\n",
              "      <td>0.157123</td>\n",
              "    </tr>\n",
              "    <tr>\n",
              "      <th>...</th>\n",
              "      <td>...</td>\n",
              "      <td>...</td>\n",
              "      <td>...</td>\n",
              "      <td>...</td>\n",
              "      <td>...</td>\n",
              "      <td>...</td>\n",
              "      <td>...</td>\n",
              "      <td>...</td>\n",
              "      <td>...</td>\n",
              "    </tr>\n",
              "    <tr>\n",
              "      <th>13116</th>\n",
              "      <td>2020-12-31</td>\n",
              "      <td>0.826087</td>\n",
              "      <td>0.116935</td>\n",
              "      <td>0.0</td>\n",
              "      <td>0.3000</td>\n",
              "      <td>0.528090</td>\n",
              "      <td>0.193050</td>\n",
              "      <td>0.0</td>\n",
              "      <td>0.397227</td>\n",
              "    </tr>\n",
              "    <tr>\n",
              "      <th>13117</th>\n",
              "      <td>2020-12-31</td>\n",
              "      <td>0.869565</td>\n",
              "      <td>0.116935</td>\n",
              "      <td>0.0</td>\n",
              "      <td>0.4000</td>\n",
              "      <td>0.539326</td>\n",
              "      <td>0.196911</td>\n",
              "      <td>0.0</td>\n",
              "      <td>0.397227</td>\n",
              "    </tr>\n",
              "    <tr>\n",
              "      <th>13118</th>\n",
              "      <td>2020-12-31</td>\n",
              "      <td>0.913043</td>\n",
              "      <td>0.114919</td>\n",
              "      <td>0.0</td>\n",
              "      <td>0.3375</td>\n",
              "      <td>0.561798</td>\n",
              "      <td>0.202703</td>\n",
              "      <td>0.0</td>\n",
              "      <td>0.397227</td>\n",
              "    </tr>\n",
              "    <tr>\n",
              "      <th>13119</th>\n",
              "      <td>2020-12-31</td>\n",
              "      <td>0.956522</td>\n",
              "      <td>0.110887</td>\n",
              "      <td>0.0</td>\n",
              "      <td>0.3125</td>\n",
              "      <td>0.617978</td>\n",
              "      <td>0.218147</td>\n",
              "      <td>0.0</td>\n",
              "      <td>0.397227</td>\n",
              "    </tr>\n",
              "    <tr>\n",
              "      <th>13120</th>\n",
              "      <td>2020-12-31</td>\n",
              "      <td>1.000000</td>\n",
              "      <td>0.106855</td>\n",
              "      <td>0.0</td>\n",
              "      <td>0.2750</td>\n",
              "      <td>0.606742</td>\n",
              "      <td>0.210425</td>\n",
              "      <td>0.0</td>\n",
              "      <td>0.397227</td>\n",
              "    </tr>\n",
              "  </tbody>\n",
              "</table>\n",
              "<p>13121 rows × 9 columns</p>\n",
              "</div>"
            ],
            "text/plain": [
              "             Date      Hour  Temperature  ...  Dewpoint  Snow  Visibility\n",
              "0      2019-06-01  0.000000     0.584677  ...  0.635135   0.0    0.397026\n",
              "1      2019-06-01  0.043478     0.572581  ...  0.650579   0.0    0.335544\n",
              "2      2019-06-01  0.086957     0.568548  ...  0.666023   0.0    0.222825\n",
              "3      2019-06-01  0.130435     0.562500  ...  0.683398   0.0    0.166968\n",
              "4      2019-06-01  0.173913     0.566532  ...  0.679537   0.0    0.157123\n",
              "...           ...       ...          ...  ...       ...   ...         ...\n",
              "13116  2020-12-31  0.826087     0.116935  ...  0.193050   0.0    0.397227\n",
              "13117  2020-12-31  0.869565     0.116935  ...  0.196911   0.0    0.397227\n",
              "13118  2020-12-31  0.913043     0.114919  ...  0.202703   0.0    0.397227\n",
              "13119  2020-12-31  0.956522     0.110887  ...  0.218147   0.0    0.397227\n",
              "13120  2020-12-31  1.000000     0.106855  ...  0.210425   0.0    0.397227\n",
              "\n",
              "[13121 rows x 9 columns]"
            ]
          },
          "metadata": {},
          "execution_count": 20
        }
      ]
    },
    {
      "cell_type": "code",
      "metadata": {
        "ExecuteTime": {
          "end_time": "2021-07-12T09:17:22.802204Z",
          "start_time": "2021-07-12T09:17:22.724202Z"
        },
        "colab": {
          "base_uri": "https://localhost:8080/",
          "height": 424
        },
        "id": "ZTne1srWQNpi",
        "outputId": "771b1f53-0ea1-4e17-d330-17fdcc3d9f8d"
      },
      "source": [
        "# if rainfall/snow 범주형 변수일 때 scaling 제외하기 \n",
        "from sklearn.preprocessing import StandardScaler\n",
        "\n",
        "df_std = df_fillna.copy()\n",
        "cols = [c for c in df.columns if c not in ['Date', 'Rent Amount']]\n",
        "\n",
        "scaler = StandardScaler()\n",
        "scaler.fit(df_fillna[cols].values)\n",
        "df_std[cols] = scaler.transform(df_fillna[cols].values)\n",
        "\n",
        "df_std"
      ],
      "execution_count": null,
      "outputs": [
        {
          "output_type": "execute_result",
          "data": {
            "text/html": [
              "<div>\n",
              "<style scoped>\n",
              "    .dataframe tbody tr th:only-of-type {\n",
              "        vertical-align: middle;\n",
              "    }\n",
              "\n",
              "    .dataframe tbody tr th {\n",
              "        vertical-align: top;\n",
              "    }\n",
              "\n",
              "    .dataframe thead th {\n",
              "        text-align: right;\n",
              "    }\n",
              "</style>\n",
              "<table border=\"1\" class=\"dataframe\">\n",
              "  <thead>\n",
              "    <tr style=\"text-align: right;\">\n",
              "      <th></th>\n",
              "      <th>Date</th>\n",
              "      <th>Hour</th>\n",
              "      <th>Temperature</th>\n",
              "      <th>Rainfall</th>\n",
              "      <th>Windspeed</th>\n",
              "      <th>Humidity</th>\n",
              "      <th>Dewpoint</th>\n",
              "      <th>Snow</th>\n",
              "      <th>Visibility</th>\n",
              "    </tr>\n",
              "  </thead>\n",
              "  <tbody>\n",
              "    <tr>\n",
              "      <th>0</th>\n",
              "      <td>2019-06-01</td>\n",
              "      <td>-1.662078</td>\n",
              "      <td>0.173334</td>\n",
              "      <td>-0.130954</td>\n",
              "      <td>-0.791097</td>\n",
              "      <td>0.011443</td>\n",
              "      <td>0.202891</td>\n",
              "      <td>-0.100834</td>\n",
              "      <td>0.921870</td>\n",
              "    </tr>\n",
              "    <tr>\n",
              "      <th>1</th>\n",
              "      <td>2019-06-01</td>\n",
              "      <td>-1.517594</td>\n",
              "      <td>0.114778</td>\n",
              "      <td>-0.130954</td>\n",
              "      <td>-0.617028</td>\n",
              "      <td>0.317539</td>\n",
              "      <td>0.271164</td>\n",
              "      <td>-0.100834</td>\n",
              "      <td>0.400651</td>\n",
              "    </tr>\n",
              "    <tr>\n",
              "      <th>2</th>\n",
              "      <td>2019-06-01</td>\n",
              "      <td>-1.373110</td>\n",
              "      <td>0.095260</td>\n",
              "      <td>-0.130954</td>\n",
              "      <td>-0.529993</td>\n",
              "      <td>0.572619</td>\n",
              "      <td>0.339436</td>\n",
              "      <td>-0.100834</td>\n",
              "      <td>-0.554917</td>\n",
              "    </tr>\n",
              "    <tr>\n",
              "      <th>3</th>\n",
              "      <td>2019-06-01</td>\n",
              "      <td>-1.228626</td>\n",
              "      <td>0.065981</td>\n",
              "      <td>-0.130954</td>\n",
              "      <td>-0.617028</td>\n",
              "      <td>0.878715</td>\n",
              "      <td>0.416243</td>\n",
              "      <td>-0.100834</td>\n",
              "      <td>-1.028442</td>\n",
              "    </tr>\n",
              "    <tr>\n",
              "      <th>4</th>\n",
              "      <td>2019-06-01</td>\n",
              "      <td>-1.084142</td>\n",
              "      <td>0.085500</td>\n",
              "      <td>-0.130954</td>\n",
              "      <td>-0.355924</td>\n",
              "      <td>0.776683</td>\n",
              "      <td>0.399175</td>\n",
              "      <td>-0.100834</td>\n",
              "      <td>-1.111905</td>\n",
              "    </tr>\n",
              "    <tr>\n",
              "      <th>...</th>\n",
              "      <td>...</td>\n",
              "      <td>...</td>\n",
              "      <td>...</td>\n",
              "      <td>...</td>\n",
              "      <td>...</td>\n",
              "      <td>...</td>\n",
              "      <td>...</td>\n",
              "      <td>...</td>\n",
              "      <td>...</td>\n",
              "    </tr>\n",
              "    <tr>\n",
              "      <th>13116</th>\n",
              "      <td>2020-12-31</td>\n",
              "      <td>1.083118</td>\n",
              "      <td>-2.090836</td>\n",
              "      <td>-0.130954</td>\n",
              "      <td>0.166284</td>\n",
              "      <td>-0.243637</td>\n",
              "      <td>-1.751407</td>\n",
              "      <td>-0.100834</td>\n",
              "      <td>0.923574</td>\n",
              "    </tr>\n",
              "    <tr>\n",
              "      <th>13117</th>\n",
              "      <td>2020-12-31</td>\n",
              "      <td>1.227602</td>\n",
              "      <td>-2.090836</td>\n",
              "      <td>-0.130954</td>\n",
              "      <td>0.862562</td>\n",
              "      <td>-0.192621</td>\n",
              "      <td>-1.734339</td>\n",
              "      <td>-0.100834</td>\n",
              "      <td>0.923574</td>\n",
              "    </tr>\n",
              "    <tr>\n",
              "      <th>13118</th>\n",
              "      <td>2020-12-31</td>\n",
              "      <td>1.372086</td>\n",
              "      <td>-2.100595</td>\n",
              "      <td>-0.130954</td>\n",
              "      <td>0.427388</td>\n",
              "      <td>-0.090589</td>\n",
              "      <td>-1.708737</td>\n",
              "      <td>-0.100834</td>\n",
              "      <td>0.923574</td>\n",
              "    </tr>\n",
              "    <tr>\n",
              "      <th>13119</th>\n",
              "      <td>2020-12-31</td>\n",
              "      <td>1.516570</td>\n",
              "      <td>-2.120114</td>\n",
              "      <td>-0.130954</td>\n",
              "      <td>0.253319</td>\n",
              "      <td>0.164491</td>\n",
              "      <td>-1.640464</td>\n",
              "      <td>-0.100834</td>\n",
              "      <td>0.923574</td>\n",
              "    </tr>\n",
              "    <tr>\n",
              "      <th>13120</th>\n",
              "      <td>2020-12-31</td>\n",
              "      <td>1.661054</td>\n",
              "      <td>-2.139633</td>\n",
              "      <td>-0.130954</td>\n",
              "      <td>-0.007785</td>\n",
              "      <td>0.113475</td>\n",
              "      <td>-1.674601</td>\n",
              "      <td>-0.100834</td>\n",
              "      <td>0.923574</td>\n",
              "    </tr>\n",
              "  </tbody>\n",
              "</table>\n",
              "<p>13121 rows × 9 columns</p>\n",
              "</div>"
            ],
            "text/plain": [
              "             Date      Hour  Temperature  ...  Dewpoint      Snow  Visibility\n",
              "0      2019-06-01 -1.662078     0.173334  ...  0.202891 -0.100834    0.921870\n",
              "1      2019-06-01 -1.517594     0.114778  ...  0.271164 -0.100834    0.400651\n",
              "2      2019-06-01 -1.373110     0.095260  ...  0.339436 -0.100834   -0.554917\n",
              "3      2019-06-01 -1.228626     0.065981  ...  0.416243 -0.100834   -1.028442\n",
              "4      2019-06-01 -1.084142     0.085500  ...  0.399175 -0.100834   -1.111905\n",
              "...           ...       ...          ...  ...       ...       ...         ...\n",
              "13116  2020-12-31  1.083118    -2.090836  ... -1.751407 -0.100834    0.923574\n",
              "13117  2020-12-31  1.227602    -2.090836  ... -1.734339 -0.100834    0.923574\n",
              "13118  2020-12-31  1.372086    -2.100595  ... -1.708737 -0.100834    0.923574\n",
              "13119  2020-12-31  1.516570    -2.120114  ... -1.640464 -0.100834    0.923574\n",
              "13120  2020-12-31  1.661054    -2.139633  ... -1.674601 -0.100834    0.923574\n",
              "\n",
              "[13121 rows x 9 columns]"
            ]
          },
          "metadata": {},
          "execution_count": 21
        }
      ]
    },
    {
      "cell_type": "markdown",
      "metadata": {
        "id": "B-ZLkIjXQNpi"
      },
      "source": [
        "## 전처리 과정 함수화"
      ]
    },
    {
      "cell_type": "code",
      "metadata": {
        "ExecuteTime": {
          "end_time": "2021-07-12T09:17:22.818203Z",
          "start_time": "2021-07-12T09:17:22.803204Z"
        },
        "id": "QIkaYA7LQNpj"
      },
      "source": [
        "def preprocess(df: pd.DataFrame, scaler=None):\n",
        "    \n",
        "    if scaler is None: \n",
        "        scaler = 'std'\n",
        "    \n",
        "    # 결측치 처리\n",
        "    df_fillna = df_test.copy()\n",
        "\n",
        "    cols = ['Temperature', 'Dewpoint']\n",
        "    df_fillna[cols] = df_fillna[cols].interpolate('nearest')\n",
        "\n",
        "    cols = ['Windspeed']\n",
        "    df_fillna[cols] = df_fillna[cols].fillna(df_fillna[cols].mean())\n",
        "\n",
        "    cols = ['Rainfall', 'Snow']\n",
        "    df_fillna[cols] = df_fillna[cols].fillna(0)\n",
        "    \n",
        "    # 스케일링\n",
        "    df_tfm = df_fillna.copy()\n",
        "    cols = [c for c in df.columns if c not in ['Date', 'Rent Amount']]\n",
        "    \n",
        "    if isinstance(scaler, str):\n",
        "\n",
        "        scaler = {\n",
        "            'minmax': MinMaxScaler,\n",
        "            'std': StandardScaler,\n",
        "        }[scaler]()\n",
        "        scaler.fit(df_fillna.values)\n",
        "    \n",
        "    df_tfm[cols] = scaler.transform(df_tfm[cols].values)\n",
        "    \n",
        "    return df_tfm"
      ],
      "execution_count": null,
      "outputs": []
    },
    {
      "cell_type": "code",
      "source": [
        "df_test = pd.read_csv('./test.csv')\n",
        "df_test = df_test.sort_values(by=['Date', 'Hour']).reset_index(drop=True)\n",
        "\n",
        "df_test_preprocess = preprocess(df, scaler)"
      ],
      "metadata": {
        "id": "7IgUutdrJLU7"
      },
      "execution_count": null,
      "outputs": []
    },
    {
      "cell_type": "markdown",
      "metadata": {
        "id": "3nbDVbjUQNpj"
      },
      "source": [
        "# 모델링"
      ]
    },
    {
      "cell_type": "code",
      "metadata": {
        "id": "5gyZ1GPQtATy"
      },
      "source": [
        "df = pd.read_csv('new_train1.csv')\n",
        "X = df.drop(['Date','Rent Amount'], axis=1).values\n",
        "y = df['Rent Amount']"
      ],
      "execution_count": null,
      "outputs": []
    },
    {
      "cell_type": "markdown",
      "metadata": {
        "id": "qgdZIjY3QNpj"
      },
      "source": [
        "### 훈련과 검증 셋 분리"
      ]
    },
    {
      "cell_type": "code",
      "metadata": {
        "ExecuteTime": {
          "end_time": "2021-07-12T09:17:22.896202Z",
          "start_time": "2021-07-12T09:17:22.882204Z"
        },
        "id": "IW7qFhSZQNpk"
      },
      "source": [
        "X_train, X_valid, y_train, y_valid = train_test_split(X, y, test_size=.05, shuffle=False)"
      ],
      "execution_count": null,
      "outputs": []
    },
    {
      "cell_type": "markdown",
      "metadata": {
        "id": "HFmSz7kNQNpk"
      },
      "source": [
        "### 결과 확인"
      ]
    },
    {
      "cell_type": "code",
      "metadata": {
        "ExecuteTime": {
          "end_time": "2021-07-12T09:17:22.912202Z",
          "start_time": "2021-07-12T09:17:22.897203Z"
        },
        "id": "KWJG861aQNpk"
      },
      "source": [
        "from sklearn.metrics import *\n",
        "\n",
        "def plot_result(y_true, y_pred):\n",
        "    \n",
        "    sns.lmplot(\n",
        "        data=pd.DataFrame({\n",
        "            'TRUE': y_true,\n",
        "            'PRED': y_pred,\n",
        "    }), x='TRUE', y='PRED')\n",
        "    print(f\"R2 Score: {r2_score(y_true, y_pred):.5f}\")"
      ],
      "execution_count": null,
      "outputs": []
    },
    {
      "cell_type": "markdown",
      "metadata": {
        "id": "_BQx2-ztQNpk"
      },
      "source": [
        "## 모델링"
      ]
    },
    {
      "cell_type": "markdown",
      "metadata": {
        "id": "uukVimOEQNpk"
      },
      "source": [
        "1. 선형 회귀 (Linear Regression)\n",
        "2. LightGBM (Light Gradient Boosting Model)\n",
        "3. 신경망 (Artificial Neural Networks)"
      ]
    },
    {
      "cell_type": "markdown",
      "metadata": {
        "id": "ETvB6jLpQNpk"
      },
      "source": [
        "### 선형 회귀"
      ]
    },
    {
      "cell_type": "code",
      "metadata": {
        "ExecuteTime": {
          "end_time": "2021-07-12T09:17:23.339708Z",
          "start_time": "2021-07-12T09:17:22.915204Z"
        },
        "colab": {
          "base_uri": "https://localhost:8080/",
          "height": 382
        },
        "id": "kf8VupF3QNpl",
        "outputId": "a59a430f-134c-4d92-ab78-cfd38e820084"
      },
      "source": [
        "# 0. Import\n",
        "from sklearn.linear_model import LinearRegression\n",
        "\n",
        "# 1. 인스턴스 생성\n",
        "clf = LinearRegression()\n",
        "\n",
        "# 2. fit\n",
        "clf.fit(X_train, y_train)\n",
        "\n",
        "# 3. predict\n",
        "y_pred = clf.predict(X_valid)\n",
        "\n",
        "# 4. 결과 확인\n",
        "plot_result(y_valid, y_pred)"
      ],
      "execution_count": null,
      "outputs": [
        {
          "output_type": "stream",
          "name": "stdout",
          "text": [
            "R2 Score: 0.39522\n"
          ]
        },
        {
          "output_type": "display_data",
          "data": {
            "image/png": "[encoded data removed]",
            "text/plain": [
              "<Figure size 360x360 with 1 Axes>"
            ]
          },
          "metadata": {}
        }
      ]
    },
    {
      "cell_type": "markdown",
      "metadata": {
        "id": "Sf0lPzH1VFl5"
      },
      "source": [
        "### XGBoost"
      ]
    },
    {
      "cell_type": "code",
      "metadata": {
        "colab": {
          "base_uri": "https://localhost:8080/",
          "height": 504
        },
        "id": "H7LwbqZhVJwG",
        "outputId": "3207491d-4af5-41ae-a0d5-de58e509992e"
      },
      "source": [
        "# XGBoost \n",
        "xgbr = XGBRegressor(n_estimators = 1000)\n",
        "\n",
        "# fit\n",
        "xgbr.fit(X_train, y_train,\n",
        "         eval_set=[(X_valid, y_valid)], \n",
        "         early_stopping_rounds = 500, \n",
        "         verbose=500)\n",
        "\n",
        "# predict\n",
        "y_pred = xgbr.predict(X_valid)\n",
        "\n",
        "# check result\n",
        "plot_result(y_valid, y_pred)"
      ],
      "execution_count": null,
      "outputs": [
        {
          "output_type": "stream",
          "name": "stdout",
          "text": [
            "[06:05:19] WARNING: /workspace/src/objective/regression_obj.cu:152: reg:linear is now deprecated in favor of reg:squarederror.\n",
            "[0]\tvalidation_0-rmse:1542.97\n",
            "Will train until validation_0-rmse hasn't improved in 500 rounds.\n",
            "[500]\tvalidation_0-rmse:553.173\n",
            "Stopping. Best iteration:\n",
            "[208]\tvalidation_0-rmse:546.92\n",
            "\n",
            "R2 Score: 0.69049\n"
          ]
        },
        {
          "output_type": "display_data",
          "data": {
            "image/png": "[encoded data removed]",
            "text/plain": [
              "<Figure size 360x360 with 1 Axes>"
            ]
          },
          "metadata": {}
        }
      ]
    },
    {
      "cell_type": "markdown",
      "metadata": {
        "id": "P3m9Y8QEQNpl"
      },
      "source": [
        "### LGBM"
      ]
    },
    {
      "cell_type": "code",
      "metadata": {
        "ExecuteTime": {
          "end_time": "2021-07-12T09:17:23.876240Z",
          "start_time": "2021-07-12T09:17:23.340712Z"
        },
        "colab": {
          "base_uri": "https://localhost:8080/",
          "height": 452
        },
        "id": "LAuu_FipQNpl",
        "outputId": "ad115bcb-17e0-47e1-9768-31c9f2d3df67"
      },
      "source": [
        "from lightgbm import LGBMRegressor\n",
        "\n",
        "# LGBM model\n",
        "lgbr = LGBMRegressor(n_estimators = 1000)\n",
        "\n",
        "# fit model\n",
        "lgbr.fit(X_train, y_train,\n",
        "         eval_set=[(X_valid, y_valid)], \n",
        "         early_stopping_rounds = 500, \n",
        "         verbose=500)\n",
        "# predict\n",
        "y_pred = lgbr.predict(X_valid)\n",
        "# result\n",
        "plot_result(y_valid, y_pred)"
      ],
      "execution_count": null,
      "outputs": [
        {
          "output_type": "stream",
          "name": "stdout",
          "text": [
            "Training until validation scores don't improve for 500 rounds.\n",
            "[500]\tvalid_0's l2: 331717\n",
            "Early stopping, best iteration is:\n",
            "[123]\tvalid_0's l2: 316684\n",
            "R2 Score: 0.67232\n"
          ]
        },
        {
          "output_type": "display_data",
          "data": {
            "image/png": "[encoded data removed]",
            "text/plain": [
              "<Figure size 360x360 with 1 Axes>"
            ]
          },
          "metadata": {}
        }
      ]
    },
    {
      "cell_type": "markdown",
      "metadata": {
        "id": "RbZdHWFfUgwk"
      },
      "source": [
        "### Hyperparameter Tuning"
      ]
    },
    {
      "cell_type": "markdown",
      "metadata": {
        "id": "Jh_EpdtTjX--"
      },
      "source": [
        "XGBoost Hyperparameter Tuning"
      ]
    },
    {
      "cell_type": "code",
      "metadata": {
        "id": "Ogz12VdNjjM_"
      },
      "source": [
        "def objective(trial, data = X_train, target = y):\n",
        "    \n",
        "    train_x, test_x, train_y, test_y = train_test_split(X, y, test_size=.05, shuffle=False)\n",
        "\n",
        "    param = {\n",
        "        'n_estimators': 20000,\n",
        "        'metric': 'mean_squared_error', \n",
        "        'tree_method':'gpu_hist',  # this parameter means using the GPU when training our model to speedup the training process\n",
        "        'lambda': trial.suggest_loguniform('lambda', 1e-3, 10.0),\n",
        "        'alpha': trial.suggest_loguniform('alpha', 1e-3, 10.0),\n",
        "        'colsample_bytree': trial.suggest_categorical('colsample_bytree', [0.3,0.4,0.5,0.6,0.7,0.8,0.9, 1.0]),\n",
        "        'subsample': trial.suggest_categorical('subsample', [0.4,0.5,0.6,0.7,0.8,1.0]),\n",
        "        'learning_rate': trial.suggest_loguniform('learning_rate', 0.001, 0.1),\n",
        "        'max_depth': trial.suggest_int('max_depth', 2, 20),\n",
        "        'min_child_weight': trial.suggest_int('min_child_weight', 1, 50),\n",
        "    }\n",
        "\n",
        "    model = XGBRegressor(**param)\n",
        "    \n",
        "    model.fit(train_x, train_y, \n",
        "              eval_set=[(test_x, test_y)], \n",
        "              early_stopping_rounds = 500, \n",
        "              verbose = False)\n",
        "    \n",
        "    preds = model.predict(test_x)\n",
        "\n",
        "    eval_mse = mean_squared_error(test_y, preds)\n",
        "    eval_r2 = r2_score(test_y, preds)\n",
        "    print('MSE: {}'.format(eval_mse))\n",
        "    print('R2 Score: {}'.format(eval_r2))\n",
        "    \n",
        "    return eval_r2"
      ],
      "execution_count": null,
      "outputs": []
    },
    {
      "cell_type": "markdown",
      "metadata": {
        "id": "OUkil7Otim_f"
      },
      "source": [
        "LGBM Hyperparameter Tuning"
      ]
    },
    {
      "cell_type": "code",
      "metadata": {
        "id": "fTQpkBbyUf0F"
      },
      "source": [
        "def objective(trial,data = X_train,target = y):\n",
        "    \n",
        "    train_x, test_x, train_y, test_y = train_test_split(X, y, test_size=.05, shuffle=False)\n",
        "    \n",
        "    param = {\n",
        "        # 'tree_method': 'gpu_hist'\n",
        "        'metric': 'mean_squared_error', \n",
        "        'n_estimators': 20000,\n",
        "        'reg_alpha': trial.suggest_loguniform('reg_alpha', 1e-3, 10.0),\n",
        "        'reg_lambda': trial.suggest_loguniform('reg_lambda', 1e-3, 10.0),\n",
        "        'colsample_bytree': trial.suggest_categorical('colsample_bytree', [0.3, 0.4, 0.5, 0.6, 0.7, 0.8, 0.9, 1.0]),\n",
        "        'subsample': trial.suggest_categorical('subsample', [0.4, 0.5, 0.6, 0.7, 0.8, 1.0]),\n",
        "        'learning_rate': trial.suggest_categorical('learning_rate', [0.006, 0.008, 0.01, 0.014, 0.017, 0.01, 0.02, 0.05, 0.08]),\n",
        "        'max_depth': trial.suggest_categorical('max_depth', [4, 5, 8, 10, 15, 20, 100]),\n",
        "        'num_leaves' : trial.suggest_int('num_leaves', 1, 1000),\n",
        "        'min_child_samples': trial.suggest_int('min_child_samples', 1, 300),\n",
        "    }\n",
        "\n",
        "    model = LGBMRegressor(**param)  \n",
        "    model.fit(train_x,train_y,\n",
        "              eval_set=[(test_x,test_y)],\n",
        "              early_stopping_rounds=500,\n",
        "              verbose=500)\n",
        "    \n",
        "    preds = model.predict(test_x)\n",
        "    eval_mse = mean_squared_error(test_y, preds)\n",
        "    eval_r2 = r2_score(test_y, preds)\n",
        "    print('MSE: {}'.format(eval_mse))\n",
        "    print('R2 Score: {}'.format(eval_r2))\n",
        "    \n",
        "    return eval_r2"
      ],
      "execution_count": null,
      "outputs": []
    },
    {
      "cell_type": "code",
      "metadata": {
        "colab": {
          "base_uri": "https://localhost:8080/"
        },
        "id": "1jFfgc3dcDnj",
        "outputId": "ab491e64-d1f4-4221-c9e8-01fc0172e6b1"
      },
      "source": [
        "# Optuna 프레임워크 사용해 하이퍼파라미터 튜닝\n",
        "import optuna\n",
        "\n",
        "study = optuna.create_study(direction='maximize')\n",
        "study.optimize(objective, n_trials=50)\n",
        "print('Number of finished trials:', len(study.trials))\n",
        "print('Best trial:', study.best_trial.params)"
      ],
      "execution_count": null,
      "outputs": [
        {
          "output_type": "stream",
          "name": "stderr",
          "text": [
            "\u001b[32m[I 2021-10-02 07:00:04,914]\u001b[0m A new study created in memory with name: no-name-190a10d7-bbd7-4b5b-8fb9-64a59cf8b5cd\u001b[0m\n"
          ]
        },
        {
          "output_type": "stream",
          "name": "stdout",
          "text": [
            "Training until validation scores don't improve for 500 rounds.\n",
            "[500]\tvalid_0's l2: 164997\n",
            "[1000]\tvalid_0's l2: 163322\n",
            "[1500]\tvalid_0's l2: 162795\n",
            "Early stopping, best iteration is:\n",
            "[1273]\tvalid_0's l2: 162655\n"
          ]
        },
        {
          "output_type": "stream",
          "name": "stderr",
          "text": [
            "\u001b[32m[I 2021-10-02 07:00:11,227]\u001b[0m Trial 0 finished with value: 0.8316970106588896 and parameters: {'reg_alpha': 8.757285952256591, 'reg_lambda': 0.001112771092943179, 'colsample_bytree': 0.6, 'subsample': 0.5, 'learning_rate': 0.017, 'max_depth': 15, 'num_leaves': 623, 'min_child_samples': 30}. Best is trial 0 with value: 0.8316970106588896.\u001b[0m\n"
          ]
        },
        {
          "output_type": "stream",
          "name": "stdout",
          "text": [
            "MSE: 162655.49861524426\n",
            "R2 Score: 0.8316970106588896\n",
            "Training until validation scores don't improve for 500 rounds.\n",
            "[500]\tvalid_0's l2: 248887\n",
            "[1000]\tvalid_0's l2: 231342\n",
            "[1500]\tvalid_0's l2: 220154\n",
            "[2000]\tvalid_0's l2: 216055\n",
            "[2500]\tvalid_0's l2: 215060\n",
            "[3000]\tvalid_0's l2: 212970\n",
            "[3500]\tvalid_0's l2: 211298\n",
            "[4000]\tvalid_0's l2: 209797\n",
            "[4500]\tvalid_0's l2: 208471\n",
            "[5000]\tvalid_0's l2: 208034\n",
            "[5500]\tvalid_0's l2: 207596\n",
            "[6000]\tvalid_0's l2: 207823\n",
            "Early stopping, best iteration is:\n",
            "[5790]\tvalid_0's l2: 207099\n"
          ]
        },
        {
          "output_type": "stream",
          "name": "stderr",
          "text": [
            "\u001b[32m[I 2021-10-02 07:00:18,656]\u001b[0m Trial 1 finished with value: 0.7857108756200969 and parameters: {'reg_alpha': 2.1089766516045483, 'reg_lambda': 0.033878920837059776, 'colsample_bytree': 0.6, 'subsample': 0.5, 'learning_rate': 0.01, 'max_depth': 8, 'num_leaves': 813, 'min_child_samples': 215}. Best is trial 0 with value: 0.8316970106588896.\u001b[0m\n"
          ]
        },
        {
          "output_type": "stream",
          "name": "stdout",
          "text": [
            "MSE: 207098.54596339798\n",
            "R2 Score: 0.7857108756200969\n",
            "Training until validation scores don't improve for 500 rounds.\n",
            "[500]\tvalid_0's l2: 262220\n",
            "[1000]\tvalid_0's l2: 262953\n",
            "Early stopping, best iteration is:\n",
            "[541]\tvalid_0's l2: 261030\n"
          ]
        },
        {
          "output_type": "stream",
          "name": "stderr",
          "text": [
            "\u001b[32m[I 2021-10-02 07:00:21,821]\u001b[0m Trial 2 finished with value: 0.7299070528248113 and parameters: {'reg_alpha': 0.006388205408667342, 'reg_lambda': 0.011347640292920937, 'colsample_bytree': 1.0, 'subsample': 1.0, 'learning_rate': 0.08, 'max_depth': 100, 'num_leaves': 721, 'min_child_samples': 136}. Best is trial 0 with value: 0.8316970106588896.\u001b[0m\n"
          ]
        },
        {
          "output_type": "stream",
          "name": "stdout",
          "text": [
            "MSE: 261029.84366012146\n",
            "R2 Score: 0.7299070528248113\n",
            "Training until validation scores don't improve for 500 rounds.\n",
            "[500]\tvalid_0's l2: 321256\n",
            "[1000]\tvalid_0's l2: 210730\n",
            "[1500]\tvalid_0's l2: 187561\n",
            "[2000]\tvalid_0's l2: 178339\n",
            "[2500]\tvalid_0's l2: 173979\n",
            "[3000]\tvalid_0's l2: 171563\n",
            "[3500]\tvalid_0's l2: 169098\n",
            "[4000]\tvalid_0's l2: 167629\n",
            "[4500]\tvalid_0's l2: 167300\n",
            "[5000]\tvalid_0's l2: 166864\n",
            "[5500]\tvalid_0's l2: 165925\n",
            "[6000]\tvalid_0's l2: 165853\n",
            "[6500]\tvalid_0's l2: 165877\n",
            "Early stopping, best iteration is:\n",
            "[6259]\tvalid_0's l2: 165729\n"
          ]
        },
        {
          "output_type": "stream",
          "name": "stderr",
          "text": [
            "\u001b[32m[I 2021-10-02 07:00:33,798]\u001b[0m Trial 3 finished with value: 0.8285170259163483 and parameters: {'reg_alpha': 3.470762109730585, 'reg_lambda': 0.2366141339989169, 'colsample_bytree': 0.4, 'subsample': 1.0, 'learning_rate': 0.006, 'max_depth': 100, 'num_leaves': 779, 'min_child_samples': 148}. Best is trial 0 with value: 0.8316970106588896.\u001b[0m\n"
          ]
        },
        {
          "output_type": "stream",
          "name": "stdout",
          "text": [
            "MSE: 165728.77738415898\n",
            "R2 Score: 0.8285170259163483\n",
            "Training until validation scores don't improve for 500 rounds.\n",
            "[500]\tvalid_0's l2: 161977\n",
            "[1000]\tvalid_0's l2: 161436\n",
            "Early stopping, best iteration is:\n",
            "[655]\tvalid_0's l2: 160176\n"
          ]
        },
        {
          "output_type": "stream",
          "name": "stderr",
          "text": [
            "\u001b[32m[I 2021-10-02 07:00:35,733]\u001b[0m Trial 4 finished with value: 0.8342621731744202 and parameters: {'reg_alpha': 0.37399569371925107, 'reg_lambda': 0.2600629529492643, 'colsample_bytree': 0.4, 'subsample': 0.5, 'learning_rate': 0.08, 'max_depth': 20, 'num_leaves': 251, 'min_child_samples': 121}. Best is trial 4 with value: 0.8342621731744202.\u001b[0m\n"
          ]
        },
        {
          "output_type": "stream",
          "name": "stdout",
          "text": [
            "MSE: 160176.4114069527\n",
            "R2 Score: 0.8342621731744202\n",
            "Training until validation scores don't improve for 500 rounds.\n",
            "[500]\tvalid_0's l2: 238672\n",
            "[1000]\tvalid_0's l2: 222120\n",
            "[1500]\tvalid_0's l2: 205313\n",
            "[2000]\tvalid_0's l2: 199384\n",
            "[2500]\tvalid_0's l2: 197863\n",
            "[3000]\tvalid_0's l2: 196069\n",
            "Early stopping, best iteration is:\n",
            "[2861]\tvalid_0's l2: 195704\n"
          ]
        },
        {
          "output_type": "stream",
          "name": "stderr",
          "text": [
            "\u001b[32m[I 2021-10-02 07:00:37,947]\u001b[0m Trial 5 finished with value: 0.7975014359434563 and parameters: {'reg_alpha': 0.006769192255830644, 'reg_lambda': 0.0025602237523440416, 'colsample_bytree': 0.3, 'subsample': 0.4, 'learning_rate': 0.02, 'max_depth': 5, 'num_leaves': 115, 'min_child_samples': 271}. Best is trial 4 with value: 0.8342621731744202.\u001b[0m\n"
          ]
        },
        {
          "output_type": "stream",
          "name": "stdout",
          "text": [
            "MSE: 195703.62377064818\n",
            "R2 Score: 0.7975014359434563\n",
            "Training until validation scores don't improve for 500 rounds.\n",
            "[500]\tvalid_0's l2: 202268\n",
            "[1000]\tvalid_0's l2: 195046\n",
            "[1500]\tvalid_0's l2: 194832\n",
            "[2000]\tvalid_0's l2: 193782\n",
            "Early stopping, best iteration is:\n",
            "[1827]\tvalid_0's l2: 192132\n"
          ]
        },
        {
          "output_type": "stream",
          "name": "stderr",
          "text": [
            "\u001b[32m[I 2021-10-02 07:00:41,131]\u001b[0m Trial 6 finished with value: 0.8011965729192984 and parameters: {'reg_alpha': 0.01121163545703669, 'reg_lambda': 0.09351401808171064, 'colsample_bytree': 0.7, 'subsample': 1.0, 'learning_rate': 0.08, 'max_depth': 10, 'num_leaves': 711, 'min_child_samples': 208}. Best is trial 4 with value: 0.8342621731744202.\u001b[0m\n"
          ]
        },
        {
          "output_type": "stream",
          "name": "stdout",
          "text": [
            "MSE: 192132.4789584841\n",
            "R2 Score: 0.8011965729192984\n",
            "Training until validation scores don't improve for 500 rounds.\n",
            "[500]\tvalid_0's l2: 219364\n",
            "[1000]\tvalid_0's l2: 191500\n",
            "[1500]\tvalid_0's l2: 180570\n",
            "[2000]\tvalid_0's l2: 178755\n",
            "[2500]\tvalid_0's l2: 175824\n",
            "[3000]\tvalid_0's l2: 174091\n",
            "[3500]\tvalid_0's l2: 174434\n",
            "Early stopping, best iteration is:\n",
            "[3094]\tvalid_0's l2: 173785\n"
          ]
        },
        {
          "output_type": "stream",
          "name": "stderr",
          "text": [
            "\u001b[32m[I 2021-10-02 07:00:45,361]\u001b[0m Trial 7 finished with value: 0.8201808583585694 and parameters: {'reg_alpha': 0.02507773728201629, 'reg_lambda': 0.02273586985692909, 'colsample_bytree': 0.3, 'subsample': 0.5, 'learning_rate': 0.017, 'max_depth': 15, 'num_leaves': 706, 'min_child_samples': 225}. Best is trial 4 with value: 0.8342621731744202.\u001b[0m\n"
          ]
        },
        {
          "output_type": "stream",
          "name": "stdout",
          "text": [
            "MSE: 173785.22068299202\n",
            "R2 Score: 0.8201808583585694\n",
            "Training until validation scores don't improve for 500 rounds.\n",
            "[500]\tvalid_0's l2: 305162\n"
          ]
        },
        {
          "output_type": "stream",
          "name": "stderr",
          "text": [
            "\u001b[32m[I 2021-10-02 07:00:46,242]\u001b[0m Trial 8 finished with value: 0.6877305436988912 and parameters: {'reg_alpha': 0.09289965418147182, 'reg_lambda': 0.00254298702116159, 'colsample_bytree': 0.7, 'subsample': 1.0, 'learning_rate': 0.008, 'max_depth': 5, 'num_leaves': 27, 'min_child_samples': 213}. Best is trial 4 with value: 0.8342621731744202.\u001b[0m\n"
          ]
        },
        {
          "output_type": "stream",
          "name": "stdout",
          "text": [
            "Early stopping, best iteration is:\n",
            "[473]\tvalid_0's l2: 301791\n",
            "MSE: 301791.09899244853\n",
            "R2 Score: 0.6877305436988912\n",
            "Training until validation scores don't improve for 500 rounds.\n",
            "[500]\tvalid_0's l2: 207711\n",
            "[1000]\tvalid_0's l2: 197607\n",
            "[1500]\tvalid_0's l2: 194042\n",
            "[2000]\tvalid_0's l2: 192452\n",
            "[2500]\tvalid_0's l2: 193753\n",
            "Early stopping, best iteration is:\n",
            "[2407]\tvalid_0's l2: 191618\n"
          ]
        },
        {
          "output_type": "stream",
          "name": "stderr",
          "text": [
            "\u001b[32m[I 2021-10-02 07:00:49,270]\u001b[0m Trial 9 finished with value: 0.8017291359178041 and parameters: {'reg_alpha': 0.020932086513070536, 'reg_lambda': 2.885205436071692, 'colsample_bytree': 0.8, 'subsample': 0.4, 'learning_rate': 0.08, 'max_depth': 5, 'num_leaves': 948, 'min_child_samples': 50}. Best is trial 4 with value: 0.8342621731744202.\u001b[0m\n"
          ]
        },
        {
          "output_type": "stream",
          "name": "stdout",
          "text": [
            "MSE: 191617.7863769375\n",
            "R2 Score: 0.8017291359178041\n",
            "Training until validation scores don't improve for 500 rounds.\n",
            "[500]\tvalid_0's l2: 172280\n",
            "[1000]\tvalid_0's l2: 169648\n",
            "Early stopping, best iteration is:\n",
            "[911]\tvalid_0's l2: 168963\n"
          ]
        },
        {
          "output_type": "stream",
          "name": "stderr",
          "text": [
            "\u001b[32m[I 2021-10-02 07:00:52,244]\u001b[0m Trial 10 finished with value: 0.8251703358224115 and parameters: {'reg_alpha': 0.4519886827934814, 'reg_lambda': 1.38035477611682, 'colsample_bytree': 0.5, 'subsample': 0.7, 'learning_rate': 0.05, 'max_depth': 20, 'num_leaves': 342, 'min_child_samples': 92}. Best is trial 4 with value: 0.8342621731744202.\u001b[0m\n"
          ]
        },
        {
          "output_type": "stream",
          "name": "stdout",
          "text": [
            "MSE: 168963.16762328125\n",
            "R2 Score: 0.8251703358224115\n",
            "Training until validation scores don't improve for 500 rounds.\n",
            "[500]\tvalid_0's l2: 228458\n",
            "[1000]\tvalid_0's l2: 223355\n",
            "[1500]\tvalid_0's l2: 222862\n",
            "Early stopping, best iteration is:\n",
            "[1101]\tvalid_0's l2: 222829\n"
          ]
        },
        {
          "output_type": "stream",
          "name": "stderr",
          "text": [
            "\u001b[32m[I 2021-10-02 07:01:01,313]\u001b[0m Trial 11 finished with value: 0.7694339968182006 and parameters: {'reg_alpha': 9.069514208990116, 'reg_lambda': 0.42774841263123314, 'colsample_bytree': 0.9, 'subsample': 0.5, 'learning_rate': 0.017, 'max_depth': 15, 'num_leaves': 432, 'min_child_samples': 16}. Best is trial 4 with value: 0.8342621731744202.\u001b[0m\n"
          ]
        },
        {
          "output_type": "stream",
          "name": "stdout",
          "text": [
            "MSE: 222829.24598118817\n",
            "R2 Score: 0.7694339968182006\n",
            "Training until validation scores don't improve for 500 rounds.\n",
            "[500]\tvalid_0's l2: 186661\n",
            "[1000]\tvalid_0's l2: 175184\n",
            "[1500]\tvalid_0's l2: 173350\n",
            "[2000]\tvalid_0's l2: 172177\n",
            "[2500]\tvalid_0's l2: 171008\n",
            "[3000]\tvalid_0's l2: 171888\n",
            "Early stopping, best iteration is:\n",
            "[2597]\tvalid_0's l2: 170683\n"
          ]
        },
        {
          "output_type": "stream",
          "name": "stderr",
          "text": [
            "\u001b[32m[I 2021-10-02 07:01:08,786]\u001b[0m Trial 12 finished with value: 0.8233912664002321 and parameters: {'reg_alpha': 0.6281372948800762, 'reg_lambda': 0.0012735395283920603, 'colsample_bytree': 0.6, 'subsample': 0.8, 'learning_rate': 0.014, 'max_depth': 20, 'num_leaves': 280, 'min_child_samples': 87}. Best is trial 4 with value: 0.8342621731744202.\u001b[0m\n"
          ]
        },
        {
          "output_type": "stream",
          "name": "stdout",
          "text": [
            "MSE: 170682.53948392745\n",
            "R2 Score: 0.8233912664002321\n",
            "Training until validation scores don't improve for 500 rounds.\n",
            "[500]\tvalid_0's l2: 324269\n",
            "[1000]\tvalid_0's l2: 291985\n"
          ]
        },
        {
          "output_type": "stream",
          "name": "stderr",
          "text": [
            "\u001b[32m[I 2021-10-02 07:01:09,815]\u001b[0m Trial 13 finished with value: 0.7004903110461752 and parameters: {'reg_alpha': 0.1693159431136494, 'reg_lambda': 8.158124898377913, 'colsample_bytree': 0.4, 'subsample': 0.6, 'learning_rate': 0.01, 'max_depth': 4, 'num_leaves': 584, 'min_child_samples': 15}. Best is trial 4 with value: 0.8342621731744202.\u001b[0m\n"
          ]
        },
        {
          "output_type": "stream",
          "name": "stdout",
          "text": [
            "Early stopping, best iteration is:\n",
            "[984]\tvalid_0's l2: 289459\n",
            "MSE: 289459.492000724\n",
            "R2 Score: 0.7004903110461752\n",
            "Training until validation scores don't improve for 500 rounds.\n",
            "[500]\tvalid_0's l2: 198785\n",
            "[1000]\tvalid_0's l2: 183884\n",
            "[1500]\tvalid_0's l2: 178932\n",
            "[2000]\tvalid_0's l2: 177825\n",
            "[2500]\tvalid_0's l2: 176961\n",
            "[3000]\tvalid_0's l2: 176286\n",
            "[3500]\tvalid_0's l2: 175541\n",
            "[4000]\tvalid_0's l2: 174662\n",
            "[4500]\tvalid_0's l2: 174542\n",
            "Early stopping, best iteration is:\n",
            "[4481]\tvalid_0's l2: 174505\n"
          ]
        },
        {
          "output_type": "stream",
          "name": "stderr",
          "text": [
            "\u001b[32m[I 2021-10-02 07:01:20,991]\u001b[0m Trial 14 finished with value: 0.8194365581028744 and parameters: {'reg_alpha': 1.2981813816540824, 'reg_lambda': 0.11153012738790967, 'colsample_bytree': 0.6, 'subsample': 0.5, 'learning_rate': 0.01, 'max_depth': 20, 'num_leaves': 192, 'min_child_samples': 101}. Best is trial 4 with value: 0.8342621731744202.\u001b[0m\n"
          ]
        },
        {
          "output_type": "stream",
          "name": "stdout",
          "text": [
            "MSE: 174504.54557248735\n",
            "R2 Score: 0.8194365581028744\n",
            "Training until validation scores don't improve for 500 rounds.\n",
            "[500]\tvalid_0's l2: 284125\n",
            "[1000]\tvalid_0's l2: 243166\n",
            "[1500]\tvalid_0's l2: 246584\n",
            "Early stopping, best iteration is:\n",
            "[1039]\tvalid_0's l2: 242178\n"
          ]
        },
        {
          "output_type": "stream",
          "name": "stderr",
          "text": [
            "\u001b[32m[I 2021-10-02 07:01:24,578]\u001b[0m Trial 15 finished with value: 0.7494130332332807 and parameters: {'reg_alpha': 0.001765051092894549, 'reg_lambda': 0.8271228940390954, 'colsample_bytree': 0.4, 'subsample': 0.5, 'learning_rate': 0.01, 'max_depth': 15, 'num_leaves': 504, 'min_child_samples': 65}. Best is trial 4 with value: 0.8342621731744202.\u001b[0m\n"
          ]
        },
        {
          "output_type": "stream",
          "name": "stdout",
          "text": [
            "MSE: 242178.39615024778\n",
            "R2 Score: 0.7494130332332807\n",
            "Training until validation scores don't improve for 500 rounds.\n",
            "[500]\tvalid_0's l2: 205172\n",
            "[1000]\tvalid_0's l2: 179090\n",
            "[1500]\tvalid_0's l2: 172757\n",
            "[2000]\tvalid_0's l2: 170051\n",
            "[2500]\tvalid_0's l2: 168349\n",
            "[3000]\tvalid_0's l2: 166766\n",
            "[3500]\tvalid_0's l2: 166225\n",
            "[4000]\tvalid_0's l2: 164749\n",
            "[4500]\tvalid_0's l2: 164145\n",
            "[5000]\tvalid_0's l2: 163668\n",
            "[5500]\tvalid_0's l2: 164049\n",
            "Early stopping, best iteration is:\n",
            "[5111]\tvalid_0's l2: 163547\n"
          ]
        },
        {
          "output_type": "stream",
          "name": "stderr",
          "text": [
            "\u001b[32m[I 2021-10-02 07:01:31,522]\u001b[0m Trial 16 finished with value: 0.8307749217172369 and parameters: {'reg_alpha': 6.118420931878081, 'reg_lambda': 0.008296349908725261, 'colsample_bytree': 0.5, 'subsample': 0.6, 'learning_rate': 0.01, 'max_depth': 8, 'num_leaves': 560, 'min_child_samples': 123}. Best is trial 4 with value: 0.8342621731744202.\u001b[0m\n"
          ]
        },
        {
          "output_type": "stream",
          "name": "stdout",
          "text": [
            "MSE: 163546.64640269172\n",
            "R2 Score: 0.8307749217172369\n",
            "Training until validation scores don't improve for 500 rounds.\n",
            "[500]\tvalid_0's l2: 317296\n",
            "[1000]\tvalid_0's l2: 277726\n",
            "[1500]\tvalid_0's l2: 264002\n",
            "[2000]\tvalid_0's l2: 256499\n",
            "[2500]\tvalid_0's l2: 252704\n",
            "[3000]\tvalid_0's l2: 251741\n",
            "[3500]\tvalid_0's l2: 248917\n",
            "[4000]\tvalid_0's l2: 245274\n",
            "[4500]\tvalid_0's l2: 243842\n",
            "[5000]\tvalid_0's l2: 243041\n",
            "[5500]\tvalid_0's l2: 242481\n",
            "[6000]\tvalid_0's l2: 241085\n",
            "[6500]\tvalid_0's l2: 240100\n",
            "[7000]\tvalid_0's l2: 238432\n",
            "[7500]\tvalid_0's l2: 237852\n",
            "[8000]\tvalid_0's l2: 236865\n",
            "[8500]\tvalid_0's l2: 235977\n",
            "[9000]\tvalid_0's l2: 235433\n",
            "[9500]\tvalid_0's l2: 235073\n",
            "[10000]\tvalid_0's l2: 234635\n",
            "[10500]\tvalid_0's l2: 233376\n",
            "[11000]\tvalid_0's l2: 233290\n",
            "[11500]\tvalid_0's l2: 232318\n",
            "[12000]\tvalid_0's l2: 232209\n",
            "[12500]\tvalid_0's l2: 232426\n",
            "[13000]\tvalid_0's l2: 232038\n",
            "[13500]\tvalid_0's l2: 231240\n",
            "[14000]\tvalid_0's l2: 231251\n",
            "Early stopping, best iteration is:\n",
            "[13618]\tvalid_0's l2: 230703\n"
          ]
        },
        {
          "output_type": "stream",
          "name": "stderr",
          "text": [
            "\u001b[32m[I 2021-10-02 07:01:52,884]\u001b[0m Trial 17 finished with value: 0.7612871295729408 and parameters: {'reg_alpha': 0.1269528321167632, 'reg_lambda': 0.06420480138805154, 'colsample_bytree': 0.9, 'subsample': 0.8, 'learning_rate': 0.01, 'max_depth': 10, 'num_leaves': 384, 'min_child_samples': 181}. Best is trial 4 with value: 0.8342621731744202.\u001b[0m\n"
          ]
        },
        {
          "output_type": "stream",
          "name": "stdout",
          "text": [
            "MSE: 230702.74103387672\n",
            "R2 Score: 0.7612871295729408\n",
            "Training until validation scores don't improve for 500 rounds.\n",
            "[500]\tvalid_0's l2: 372223\n",
            "[1000]\tvalid_0's l2: 348729\n",
            "[1500]\tvalid_0's l2: 297254\n",
            "[2000]\tvalid_0's l2: 276273\n",
            "[2500]\tvalid_0's l2: 265689\n",
            "[3000]\tvalid_0's l2: 257452\n",
            "[3500]\tvalid_0's l2: 251901\n",
            "[4000]\tvalid_0's l2: 248272\n",
            "[4500]\tvalid_0's l2: 243505\n",
            "[5000]\tvalid_0's l2: 237820\n",
            "[5500]\tvalid_0's l2: 235120\n",
            "[6000]\tvalid_0's l2: 233571\n",
            "[6500]\tvalid_0's l2: 231341\n",
            "[7000]\tvalid_0's l2: 227854\n",
            "[7500]\tvalid_0's l2: 227096\n",
            "[8000]\tvalid_0's l2: 226342\n",
            "[8500]\tvalid_0's l2: 224433\n",
            "[9000]\tvalid_0's l2: 222611\n",
            "[9500]\tvalid_0's l2: 222157\n",
            "[10000]\tvalid_0's l2: 219830\n",
            "[10500]\tvalid_0's l2: 218270\n",
            "Early stopping, best iteration is:\n",
            "[10434]\tvalid_0's l2: 217728\n"
          ]
        },
        {
          "output_type": "stream",
          "name": "stderr",
          "text": [
            "\u001b[32m[I 2021-10-02 07:02:02,401]\u001b[0m Trial 18 finished with value: 0.7747128234012185 and parameters: {'reg_alpha': 0.4746827246043041, 'reg_lambda': 0.18272198836935602, 'colsample_bytree': 0.8, 'subsample': 0.7, 'learning_rate': 0.01, 'max_depth': 4, 'num_leaves': 234, 'min_child_samples': 46}. Best is trial 4 with value: 0.8342621731744202.\u001b[0m\n"
          ]
        },
        {
          "output_type": "stream",
          "name": "stdout",
          "text": [
            "MSE: 217727.55305626956\n",
            "R2 Score: 0.7747128234012185\n",
            "Training until validation scores don't improve for 500 rounds.\n",
            "[500]\tvalid_0's l2: 321529\n",
            "[1000]\tvalid_0's l2: 320118\n",
            "Early stopping, best iteration is:\n",
            "[692]\tvalid_0's l2: 317679\n"
          ]
        },
        {
          "output_type": "stream",
          "name": "stderr",
          "text": [
            "\u001b[32m[I 2021-10-02 07:02:32,673]\u001b[0m Trial 19 finished with value: 0.6712914948655375 and parameters: {'reg_alpha': 0.050531500081260707, 'reg_lambda': 0.009595096156210663, 'colsample_bytree': 1.0, 'subsample': 0.5, 'learning_rate': 0.01, 'max_depth': 20, 'num_leaves': 940, 'min_child_samples': 2}. Best is trial 4 with value: 0.8342621731744202.\u001b[0m\n"
          ]
        },
        {
          "output_type": "stream",
          "name": "stdout",
          "text": [
            "MSE: 317678.5273454301\n",
            "R2 Score: 0.6712914948655375\n",
            "Training until validation scores don't improve for 500 rounds.\n",
            "[500]\tvalid_0's l2: 223662\n",
            "[1000]\tvalid_0's l2: 200284\n",
            "[1500]\tvalid_0's l2: 191479\n",
            "[2000]\tvalid_0's l2: 189710\n",
            "[2500]\tvalid_0's l2: 188338\n",
            "[3000]\tvalid_0's l2: 188293\n",
            "[3500]\tvalid_0's l2: 187319\n",
            "[4000]\tvalid_0's l2: 186441\n",
            "[4500]\tvalid_0's l2: 186306\n",
            "[5000]\tvalid_0's l2: 186027\n",
            "[5500]\tvalid_0's l2: 185486\n",
            "[6000]\tvalid_0's l2: 185814\n",
            "Early stopping, best iteration is:\n",
            "[5538]\tvalid_0's l2: 185416\n"
          ]
        },
        {
          "output_type": "stream",
          "name": "stderr",
          "text": [
            "\u001b[32m[I 2021-10-02 07:02:42,769]\u001b[0m Trial 20 finished with value: 0.8081466189624348 and parameters: {'reg_alpha': 0.9529554015326986, 'reg_lambda': 0.5213519867951417, 'colsample_bytree': 0.6, 'subsample': 0.5, 'learning_rate': 0.01, 'max_depth': 15, 'num_leaves': 605, 'min_child_samples': 179}. Best is trial 4 with value: 0.8342621731744202.\u001b[0m\n"
          ]
        },
        {
          "output_type": "stream",
          "name": "stdout",
          "text": [
            "MSE: 185415.64517572772\n",
            "R2 Score: 0.8081466189624348\n",
            "Training until validation scores don't improve for 500 rounds.\n",
            "[500]\tvalid_0's l2: 206025\n",
            "[1000]\tvalid_0's l2: 180574\n",
            "[1500]\tvalid_0's l2: 173260\n",
            "[2000]\tvalid_0's l2: 169054\n",
            "[2500]\tvalid_0's l2: 167791\n",
            "[3000]\tvalid_0's l2: 166990\n",
            "[3500]\tvalid_0's l2: 166561\n",
            "[4000]\tvalid_0's l2: 165177\n",
            "[4500]\tvalid_0's l2: 163780\n",
            "[5000]\tvalid_0's l2: 163268\n",
            "[5500]\tvalid_0's l2: 163124\n",
            "Early stopping, best iteration is:\n",
            "[5240]\tvalid_0's l2: 162982\n"
          ]
        },
        {
          "output_type": "stream",
          "name": "stderr",
          "text": [
            "\u001b[32m[I 2021-10-02 07:02:49,697]\u001b[0m Trial 21 finished with value: 0.8313594216872768 and parameters: {'reg_alpha': 8.72499691566498, 'reg_lambda': 0.00597033208845326, 'colsample_bytree': 0.5, 'subsample': 0.6, 'learning_rate': 0.01, 'max_depth': 8, 'num_leaves': 530, 'min_child_samples': 119}. Best is trial 4 with value: 0.8342621731744202.\u001b[0m\n"
          ]
        },
        {
          "output_type": "stream",
          "name": "stdout",
          "text": [
            "MSE: 162981.7596205874\n",
            "R2 Score: 0.8313594216872768\n",
            "Training until validation scores don't improve for 500 rounds.\n",
            "[500]\tvalid_0's l2: 205783\n",
            "[1000]\tvalid_0's l2: 179650\n",
            "[1500]\tvalid_0's l2: 173265\n",
            "[2000]\tvalid_0's l2: 169282\n",
            "[2500]\tvalid_0's l2: 167093\n",
            "[3000]\tvalid_0's l2: 166119\n",
            "[3500]\tvalid_0's l2: 164777\n",
            "[4000]\tvalid_0's l2: 163352\n",
            "[4500]\tvalid_0's l2: 162526\n",
            "[5000]\tvalid_0's l2: 161890\n",
            "[5500]\tvalid_0's l2: 161794\n",
            "[6000]\tvalid_0's l2: 161831\n",
            "Early stopping, best iteration is:\n",
            "[5770]\tvalid_0's l2: 161528\n"
          ]
        },
        {
          "output_type": "stream",
          "name": "stderr",
          "text": [
            "\u001b[32m[I 2021-10-02 07:02:57,161]\u001b[0m Trial 22 finished with value: 0.8328639910158174 and parameters: {'reg_alpha': 3.6167388117418486, 'reg_lambda': 0.0013735149722596807, 'colsample_bytree': 0.5, 'subsample': 0.6, 'learning_rate': 0.01, 'max_depth': 8, 'num_leaves': 497, 'min_child_samples': 122}. Best is trial 4 with value: 0.8342621731744202.\u001b[0m\n"
          ]
        },
        {
          "output_type": "stream",
          "name": "stdout",
          "text": [
            "MSE: 161527.67686606795\n",
            "R2 Score: 0.8328639910158174\n",
            "Training until validation scores don't improve for 500 rounds.\n",
            "[500]\tvalid_0's l2: 186363\n",
            "[1000]\tvalid_0's l2: 169183\n",
            "[1500]\tvalid_0's l2: 164162\n",
            "[2000]\tvalid_0's l2: 162100\n",
            "[2500]\tvalid_0's l2: 161501\n",
            "Early stopping, best iteration is:\n",
            "[2261]\tvalid_0's l2: 161155\n"
          ]
        },
        {
          "output_type": "stream",
          "name": "stderr",
          "text": [
            "\u001b[32m[I 2021-10-02 07:03:00,284]\u001b[0m Trial 23 finished with value: 0.8332498548273988 and parameters: {'reg_alpha': 3.8063662886079115, 'reg_lambda': 0.0027966032781386843, 'colsample_bytree': 0.4, 'subsample': 0.6, 'learning_rate': 0.017, 'max_depth': 8, 'num_leaves': 454, 'min_child_samples': 168}. Best is trial 4 with value: 0.8342621731744202.\u001b[0m\n"
          ]
        },
        {
          "output_type": "stream",
          "name": "stdout",
          "text": [
            "MSE: 161154.76090708197\n",
            "R2 Score: 0.8332498548273988\n",
            "Training until validation scores don't improve for 500 rounds.\n",
            "[500]\tvalid_0's l2: 232433\n",
            "[1000]\tvalid_0's l2: 186199\n",
            "[1500]\tvalid_0's l2: 179880\n",
            "[2000]\tvalid_0's l2: 173365\n",
            "[2500]\tvalid_0's l2: 170345\n",
            "[3000]\tvalid_0's l2: 168588\n",
            "[3500]\tvalid_0's l2: 166350\n",
            "[4000]\tvalid_0's l2: 166098\n",
            "[4500]\tvalid_0's l2: 165546\n",
            "[5000]\tvalid_0's l2: 164720\n",
            "[5500]\tvalid_0's l2: 164439\n",
            "[6000]\tvalid_0's l2: 164019\n",
            "[6500]\tvalid_0's l2: 164087\n",
            "Early stopping, best iteration is:\n",
            "[6081]\tvalid_0's l2: 163894\n"
          ]
        },
        {
          "output_type": "stream",
          "name": "stderr",
          "text": [
            "\u001b[32m[I 2021-10-02 07:03:07,715]\u001b[0m Trial 24 finished with value: 0.8304153925966313 and parameters: {'reg_alpha': 3.465452517855311, 'reg_lambda': 0.004530654730157266, 'colsample_bytree': 0.4, 'subsample': 0.6, 'learning_rate': 0.01, 'max_depth': 8, 'num_leaves': 434, 'min_child_samples': 171}. Best is trial 4 with value: 0.8342621731744202.\u001b[0m\n"
          ]
        },
        {
          "output_type": "stream",
          "name": "stdout",
          "text": [
            "MSE: 163894.11134438848\n",
            "R2 Score: 0.8304153925966313\n",
            "Training until validation scores don't improve for 500 rounds.\n",
            "[500]\tvalid_0's l2: 232231\n",
            "[1000]\tvalid_0's l2: 184898\n",
            "[1500]\tvalid_0's l2: 178019\n",
            "[2000]\tvalid_0's l2: 172265\n",
            "[2500]\tvalid_0's l2: 169447\n",
            "[3000]\tvalid_0's l2: 168085\n",
            "[3500]\tvalid_0's l2: 167022\n",
            "[4000]\tvalid_0's l2: 165638\n",
            "[4500]\tvalid_0's l2: 165606\n",
            "[5000]\tvalid_0's l2: 164639\n",
            "[5500]\tvalid_0's l2: 164269\n",
            "Early stopping, best iteration is:\n",
            "[5277]\tvalid_0's l2: 163973\n"
          ]
        },
        {
          "output_type": "stream",
          "name": "stderr",
          "text": [
            "\u001b[32m[I 2021-10-02 07:03:14,094]\u001b[0m Trial 25 finished with value: 0.8303335129000073 and parameters: {'reg_alpha': 0.26697996408520736, 'reg_lambda': 0.019298720220864592, 'colsample_bytree': 0.4, 'subsample': 0.6, 'learning_rate': 0.01, 'max_depth': 8, 'num_leaves': 303, 'min_child_samples': 161}. Best is trial 4 with value: 0.8342621731744202.\u001b[0m\n"
          ]
        },
        {
          "output_type": "stream",
          "name": "stdout",
          "text": [
            "MSE: 163973.24352696573\n",
            "R2 Score: 0.8303335129000073\n",
            "Training until validation scores don't improve for 500 rounds.\n",
            "[500]\tvalid_0's l2: 249044\n",
            "[1000]\tvalid_0's l2: 222206\n",
            "[1500]\tvalid_0's l2: 206692\n",
            "[2000]\tvalid_0's l2: 200933\n",
            "[2500]\tvalid_0's l2: 197730\n",
            "[3000]\tvalid_0's l2: 195886\n",
            "[3500]\tvalid_0's l2: 194777\n",
            "[4000]\tvalid_0's l2: 193682\n",
            "[4500]\tvalid_0's l2: 193268\n",
            "Early stopping, best iteration is:\n",
            "[4459]\tvalid_0's l2: 192977\n"
          ]
        },
        {
          "output_type": "stream",
          "name": "stderr",
          "text": [
            "\u001b[32m[I 2021-10-02 07:03:19,364]\u001b[0m Trial 26 finished with value: 0.8003229510953825 and parameters: {'reg_alpha': 1.7972709053791744, 'reg_lambda': 0.0024003202458539024, 'colsample_bytree': 0.5, 'subsample': 0.6, 'learning_rate': 0.01, 'max_depth': 8, 'num_leaves': 147, 'min_child_samples': 253}. Best is trial 4 with value: 0.8342621731744202.\u001b[0m\n"
          ]
        },
        {
          "output_type": "stream",
          "name": "stdout",
          "text": [
            "MSE: 192976.78596649683\n",
            "R2 Score: 0.8003229510953825\n",
            "Training until validation scores don't improve for 500 rounds.\n",
            "[500]\tvalid_0's l2: 223505\n",
            "[1000]\tvalid_0's l2: 179489\n",
            "[1500]\tvalid_0's l2: 172387\n",
            "[2000]\tvalid_0's l2: 167366\n",
            "[2500]\tvalid_0's l2: 164389\n",
            "[3000]\tvalid_0's l2: 163522\n",
            "[3500]\tvalid_0's l2: 162351\n",
            "[4000]\tvalid_0's l2: 161638\n",
            "[4500]\tvalid_0's l2: 160905\n",
            "[5000]\tvalid_0's l2: 160575\n",
            "[5500]\tvalid_0's l2: 160236\n",
            "[6000]\tvalid_0's l2: 159541\n",
            "[6500]\tvalid_0's l2: 159258\n",
            "Early stopping, best iteration is:\n",
            "[6311]\tvalid_0's l2: 159099\n"
          ]
        },
        {
          "output_type": "stream",
          "name": "stderr",
          "text": [
            "\u001b[32m[I 2021-10-02 07:03:27,328]\u001b[0m Trial 27 finished with value: 0.8353766389620197 and parameters: {'reg_alpha': 3.486777642277594, 'reg_lambda': 0.061805801813863824, 'colsample_bytree': 0.4, 'subsample': 0.6, 'learning_rate': 0.01, 'max_depth': 8, 'num_leaves': 436, 'min_child_samples': 118}. Best is trial 27 with value: 0.8353766389620197.\u001b[0m\n"
          ]
        },
        {
          "output_type": "stream",
          "name": "stdout",
          "text": [
            "MSE: 159099.34207454638\n",
            "R2 Score: 0.8353766389620197\n",
            "Training until validation scores don't improve for 500 rounds.\n",
            "[500]\tvalid_0's l2: 280319\n",
            "[1000]\tvalid_0's l2: 241834\n",
            "[1500]\tvalid_0's l2: 246448\n",
            "Early stopping, best iteration is:\n",
            "[1037]\tvalid_0's l2: 240898\n"
          ]
        },
        {
          "output_type": "stream",
          "name": "stderr",
          "text": [
            "\u001b[32m[I 2021-10-02 07:03:30,829]\u001b[0m Trial 28 finished with value: 0.7507383150347405 and parameters: {'reg_alpha': 0.27796642061408605, 'reg_lambda': 0.03438019878271566, 'colsample_bytree': 0.4, 'subsample': 0.6, 'learning_rate': 0.01, 'max_depth': 20, 'num_leaves': 398, 'min_child_samples': 70}. Best is trial 27 with value: 0.8353766389620197.\u001b[0m\n"
          ]
        },
        {
          "output_type": "stream",
          "name": "stdout",
          "text": [
            "MSE: 240897.58484044232\n",
            "R2 Score: 0.7507383150347405\n",
            "Training until validation scores don't improve for 500 rounds.\n",
            "[500]\tvalid_0's l2: 237836\n",
            "[1000]\tvalid_0's l2: 191727\n",
            "[1500]\tvalid_0's l2: 183566\n",
            "[2000]\tvalid_0's l2: 177002\n",
            "[2500]\tvalid_0's l2: 172729\n",
            "[3000]\tvalid_0's l2: 171157\n",
            "[3500]\tvalid_0's l2: 170202\n",
            "[4000]\tvalid_0's l2: 168843\n",
            "[4500]\tvalid_0's l2: 168333\n",
            "[5000]\tvalid_0's l2: 167937\n",
            "[5500]\tvalid_0's l2: 167810\n",
            "[6000]\tvalid_0's l2: 167189\n",
            "[6500]\tvalid_0's l2: 167494\n",
            "Early stopping, best iteration is:\n",
            "[6081]\tvalid_0's l2: 167075\n"
          ]
        },
        {
          "output_type": "stream",
          "name": "stderr",
          "text": [
            "\u001b[32m[I 2021-10-02 07:03:37,749]\u001b[0m Trial 29 finished with value: 0.8271238833768522 and parameters: {'reg_alpha': 0.8152741280705997, 'reg_lambda': 0.2847916227304117, 'colsample_bytree': 0.4, 'subsample': 0.4, 'learning_rate': 0.01, 'max_depth': 8, 'num_leaves': 249, 'min_child_samples': 196}. Best is trial 27 with value: 0.8353766389620197.\u001b[0m\n"
          ]
        },
        {
          "output_type": "stream",
          "name": "stdout",
          "text": [
            "MSE: 167075.17233109946\n",
            "R2 Score: 0.8271238833768522\n",
            "Training until validation scores don't improve for 500 rounds.\n",
            "[500]\tvalid_0's l2: 230261\n",
            "[1000]\tvalid_0's l2: 183837\n",
            "[1500]\tvalid_0's l2: 175918\n",
            "[2000]\tvalid_0's l2: 170329\n",
            "[2500]\tvalid_0's l2: 166778\n",
            "[3000]\tvalid_0's l2: 165574\n",
            "Early stopping, best iteration is:\n",
            "[2964]\tvalid_0's l2: 165461\n"
          ]
        },
        {
          "output_type": "stream",
          "name": "stderr",
          "text": [
            "\u001b[32m[I 2021-10-02 07:03:43,510]\u001b[0m Trial 30 finished with value: 0.8287946050567262 and parameters: {'reg_alpha': 1.9212032983605185, 'reg_lambda': 1.5404705734805257, 'colsample_bytree': 0.4, 'subsample': 0.7, 'learning_rate': 0.01, 'max_depth': 100, 'num_leaves': 342, 'min_child_samples': 147}. Best is trial 27 with value: 0.8353766389620197.\u001b[0m\n"
          ]
        },
        {
          "output_type": "stream",
          "name": "stdout",
          "text": [
            "MSE: 165460.51255024184\n",
            "R2 Score: 0.8287946050567262\n",
            "Training until validation scores don't improve for 500 rounds.\n",
            "[500]\tvalid_0's l2: 224175\n",
            "[1000]\tvalid_0's l2: 179064\n",
            "[1500]\tvalid_0's l2: 172752\n",
            "[2000]\tvalid_0's l2: 167741\n",
            "[2500]\tvalid_0's l2: 164176\n",
            "[3000]\tvalid_0's l2: 162833\n",
            "[3500]\tvalid_0's l2: 161491\n",
            "[4000]\tvalid_0's l2: 160163\n",
            "[4500]\tvalid_0's l2: 160215\n",
            "[5000]\tvalid_0's l2: 159839\n",
            "[5500]\tvalid_0's l2: 159177\n",
            "[6000]\tvalid_0's l2: 158244\n",
            "[6500]\tvalid_0's l2: 157986\n",
            "Early stopping, best iteration is:\n",
            "[6497]\tvalid_0's l2: 157943\n"
          ]
        },
        {
          "output_type": "stream",
          "name": "stderr",
          "text": [
            "\u001b[32m[I 2021-10-02 07:03:51,508]\u001b[0m Trial 31 finished with value: 0.8365727515116197 and parameters: {'reg_alpha': 3.75942457222522, 'reg_lambda': 0.0011180289689157413, 'colsample_bytree': 0.4, 'subsample': 0.6, 'learning_rate': 0.01, 'max_depth': 8, 'num_leaves': 457, 'min_child_samples': 124}. Best is trial 31 with value: 0.8365727515116197.\u001b[0m\n"
          ]
        },
        {
          "output_type": "stream",
          "name": "stdout",
          "text": [
            "MSE: 157943.3656779488\n",
            "R2 Score: 0.8365727515116197\n",
            "Training until validation scores don't improve for 500 rounds.\n",
            "[500]\tvalid_0's l2: 220163\n",
            "[1000]\tvalid_0's l2: 176233\n",
            "[1500]\tvalid_0's l2: 169147\n",
            "[2000]\tvalid_0's l2: 164090\n",
            "[2500]\tvalid_0's l2: 162954\n",
            "[3000]\tvalid_0's l2: 161407\n",
            "[3500]\tvalid_0's l2: 160163\n",
            "[4000]\tvalid_0's l2: 159443\n",
            "[4500]\tvalid_0's l2: 159359\n",
            "[5000]\tvalid_0's l2: 158839\n",
            "[5500]\tvalid_0's l2: 158540\n",
            "[6000]\tvalid_0's l2: 157917\n",
            "[6500]\tvalid_0's l2: 157618\n",
            "[7000]\tvalid_0's l2: 157555\n",
            "[7500]\tvalid_0's l2: 157836\n",
            "Early stopping, best iteration is:\n",
            "[7066]\tvalid_0's l2: 157430\n"
          ]
        },
        {
          "output_type": "stream",
          "name": "stderr",
          "text": [
            "\u001b[32m[I 2021-10-02 07:04:00,414]\u001b[0m Trial 32 finished with value: 0.8371035155707781 and parameters: {'reg_alpha': 4.015202970279836, 'reg_lambda': 0.0010533031782607118, 'colsample_bytree': 0.4, 'subsample': 0.6, 'learning_rate': 0.01, 'max_depth': 8, 'num_leaves': 477, 'min_child_samples': 107}. Best is trial 32 with value: 0.8371035155707781.\u001b[0m\n"
          ]
        },
        {
          "output_type": "stream",
          "name": "stdout",
          "text": [
            "MSE: 157430.4116714428\n",
            "R2 Score: 0.8371035155707781\n",
            "Training until validation scores don't improve for 500 rounds.\n",
            "[500]\tvalid_0's l2: 221671\n",
            "[1000]\tvalid_0's l2: 177848\n",
            "[1500]\tvalid_0's l2: 170063\n",
            "[2000]\tvalid_0's l2: 164915\n",
            "[2500]\tvalid_0's l2: 162789\n",
            "[3000]\tvalid_0's l2: 161521\n",
            "[3500]\tvalid_0's l2: 160152\n",
            "[4000]\tvalid_0's l2: 159455\n",
            "[4500]\tvalid_0's l2: 159131\n",
            "[5000]\tvalid_0's l2: 158243\n",
            "[5500]\tvalid_0's l2: 157949\n",
            "[6000]\tvalid_0's l2: 157435\n",
            "[6500]\tvalid_0's l2: 157349\n",
            "Early stopping, best iteration is:\n",
            "[6378]\tvalid_0's l2: 157237\n"
          ]
        },
        {
          "output_type": "stream",
          "name": "stderr",
          "text": [
            "\u001b[32m[I 2021-10-02 07:04:08,666]\u001b[0m Trial 33 finished with value: 0.8373037424198828 and parameters: {'reg_alpha': 1.3844254977135082, 'reg_lambda': 0.04613957540099872, 'colsample_bytree': 0.4, 'subsample': 0.6, 'learning_rate': 0.01, 'max_depth': 8, 'num_leaves': 658, 'min_child_samples': 108}. Best is trial 33 with value: 0.8373037424198828.\u001b[0m\n"
          ]
        },
        {
          "output_type": "stream",
          "name": "stdout",
          "text": [
            "MSE: 157236.90353409603\n",
            "R2 Score: 0.8373037424198828\n",
            "Training until validation scores don't improve for 500 rounds.\n",
            "[500]\tvalid_0's l2: 219148\n",
            "[1000]\tvalid_0's l2: 176017\n",
            "[1500]\tvalid_0's l2: 168712\n",
            "[2000]\tvalid_0's l2: 163973\n",
            "[2500]\tvalid_0's l2: 161116\n",
            "[3000]\tvalid_0's l2: 159207\n",
            "[3500]\tvalid_0's l2: 157789\n",
            "[4000]\tvalid_0's l2: 157413\n",
            "[4500]\tvalid_0's l2: 156958\n",
            "[5000]\tvalid_0's l2: 155978\n",
            "[5500]\tvalid_0's l2: 155789\n",
            "[6000]\tvalid_0's l2: 155233\n",
            "[6500]\tvalid_0's l2: 155137\n",
            "[7000]\tvalid_0's l2: 155148\n",
            "Early stopping, best iteration is:\n",
            "[6769]\tvalid_0's l2: 155078\n"
          ]
        },
        {
          "output_type": "stream",
          "name": "stderr",
          "text": [
            "\u001b[32m[I 2021-10-02 07:04:17,429]\u001b[0m Trial 34 finished with value: 0.8395379694313669 and parameters: {'reg_alpha': 5.61010845257047, 'reg_lambda': 0.0010773886826606102, 'colsample_bytree': 0.4, 'subsample': 0.6, 'learning_rate': 0.01, 'max_depth': 8, 'num_leaves': 642, 'min_child_samples': 100}. Best is trial 34 with value: 0.8395379694313669.\u001b[0m\n"
          ]
        },
        {
          "output_type": "stream",
          "name": "stdout",
          "text": [
            "MSE: 155077.64712400315\n",
            "R2 Score: 0.8395379694313669\n",
            "Training until validation scores don't improve for 500 rounds.\n",
            "[500]\tvalid_0's l2: 333837\n",
            "[1000]\tvalid_0's l2: 303800\n",
            "[1500]\tvalid_0's l2: 293936\n",
            "[2000]\tvalid_0's l2: 292252\n",
            "[2500]\tvalid_0's l2: 287418\n",
            "[3000]\tvalid_0's l2: 284791\n",
            "[3500]\tvalid_0's l2: 281405\n",
            "[4000]\tvalid_0's l2: 280664\n",
            "[4500]\tvalid_0's l2: 277381\n",
            "[5000]\tvalid_0's l2: 273783\n",
            "[5500]\tvalid_0's l2: 273030\n",
            "[6000]\tvalid_0's l2: 271173\n",
            "[6500]\tvalid_0's l2: 269952\n",
            "Early stopping, best iteration is:\n",
            "[6355]\tvalid_0's l2: 269684\n"
          ]
        },
        {
          "output_type": "stream",
          "name": "stderr",
          "text": [
            "\u001b[32m[I 2021-10-02 07:04:28,574]\u001b[0m Trial 35 finished with value: 0.7209525803366383 and parameters: {'reg_alpha': 6.2159601689985235, 'reg_lambda': 0.0011165341439162428, 'colsample_bytree': 1.0, 'subsample': 0.6, 'learning_rate': 0.01, 'max_depth': 8, 'num_leaves': 655, 'min_child_samples': 100}. Best is trial 34 with value: 0.8395379694313669.\u001b[0m\n"
          ]
        },
        {
          "output_type": "stream",
          "name": "stdout",
          "text": [
            "MSE: 269683.8443591126\n",
            "R2 Score: 0.7209525803366383\n",
            "Training until validation scores don't improve for 500 rounds.\n",
            "[500]\tvalid_0's l2: 275956\n",
            "[1000]\tvalid_0's l2: 240869\n",
            "[1500]\tvalid_0's l2: 243224\n",
            "Early stopping, best iteration is:\n",
            "[1044]\tvalid_0's l2: 240005\n"
          ]
        },
        {
          "output_type": "stream",
          "name": "stderr",
          "text": [
            "\u001b[32m[I 2021-10-02 07:04:31,072]\u001b[0m Trial 36 finished with value: 0.7516622834721285 and parameters: {'reg_alpha': 1.6105528414844366, 'reg_lambda': 0.004184016549506148, 'colsample_bytree': 0.4, 'subsample': 0.6, 'learning_rate': 0.01, 'max_depth': 8, 'num_leaves': 806, 'min_child_samples': 75}. Best is trial 34 with value: 0.8395379694313669.\u001b[0m\n"
          ]
        },
        {
          "output_type": "stream",
          "name": "stdout",
          "text": [
            "MSE: 240004.62062467614\n",
            "R2 Score: 0.7516622834721285\n",
            "Training until validation scores don't improve for 500 rounds.\n",
            "[500]\tvalid_0's l2: 226002\n",
            "[1000]\tvalid_0's l2: 182492\n",
            "[1500]\tvalid_0's l2: 176359\n",
            "[2000]\tvalid_0's l2: 170242\n",
            "[2500]\tvalid_0's l2: 167607\n",
            "[3000]\tvalid_0's l2: 166177\n",
            "[3500]\tvalid_0's l2: 164331\n",
            "[4000]\tvalid_0's l2: 163285\n",
            "[4500]\tvalid_0's l2: 162163\n",
            "[5000]\tvalid_0's l2: 162279\n",
            "Early stopping, best iteration is:\n",
            "[4538]\tvalid_0's l2: 162045\n"
          ]
        },
        {
          "output_type": "stream",
          "name": "stderr",
          "text": [
            "\u001b[32m[I 2021-10-02 07:04:37,235]\u001b[0m Trial 37 finished with value: 0.83232864382897 and parameters: {'reg_alpha': 6.298153865161763, 'reg_lambda': 0.0010194011167783755, 'colsample_bytree': 0.4, 'subsample': 0.6, 'learning_rate': 0.01, 'max_depth': 8, 'num_leaves': 853, 'min_child_samples': 138}. Best is trial 34 with value: 0.8395379694313669.\u001b[0m\n"
          ]
        },
        {
          "output_type": "stream",
          "name": "stdout",
          "text": [
            "MSE: 162045.06021112818\n",
            "R2 Score: 0.83232864382897\n",
            "Training until validation scores don't improve for 500 rounds.\n",
            "[500]\tvalid_0's l2: 271315\n",
            "[1000]\tvalid_0's l2: 203870\n",
            "[1500]\tvalid_0's l2: 188603\n",
            "[2000]\tvalid_0's l2: 181937\n",
            "[2500]\tvalid_0's l2: 178792\n",
            "[3000]\tvalid_0's l2: 176739\n",
            "[3500]\tvalid_0's l2: 175257\n",
            "[4000]\tvalid_0's l2: 174572\n",
            "[4500]\tvalid_0's l2: 173980\n",
            "[5000]\tvalid_0's l2: 173313\n",
            "[5500]\tvalid_0's l2: 172543\n",
            "[6000]\tvalid_0's l2: 172258\n",
            "[6500]\tvalid_0's l2: 172346\n",
            "Early stopping, best iteration is:\n",
            "[6202]\tvalid_0's l2: 172172\n"
          ]
        },
        {
          "output_type": "stream",
          "name": "stderr",
          "text": [
            "\u001b[32m[I 2021-10-02 07:04:50,108]\u001b[0m Trial 38 finished with value: 0.8218497204249198 and parameters: {'reg_alpha': 2.697915262899276, 'reg_lambda': 0.0017650292442648945, 'colsample_bytree': 0.3, 'subsample': 0.8, 'learning_rate': 0.01, 'max_depth': 100, 'num_leaves': 662, 'min_child_samples': 106}. Best is trial 34 with value: 0.8395379694313669.\u001b[0m\n"
          ]
        },
        {
          "output_type": "stream",
          "name": "stdout",
          "text": [
            "MSE: 172172.35811539894\n",
            "R2 Score: 0.8218497204249198\n",
            "Training until validation scores don't improve for 500 rounds.\n",
            "[500]\tvalid_0's l2: 218328\n",
            "Early stopping, best iteration is:\n",
            "[465]\tvalid_0's l2: 216627\n"
          ]
        },
        {
          "output_type": "stream",
          "name": "stderr",
          "text": [
            "\u001b[32m[I 2021-10-02 07:04:52,865]\u001b[0m Trial 39 finished with value: 0.7758513696587793 and parameters: {'reg_alpha': 5.180134133830304, 'reg_lambda': 0.016471412951356304, 'colsample_bytree': 0.7, 'subsample': 0.6, 'learning_rate': 0.01, 'max_depth': 10, 'num_leaves': 763, 'min_child_samples': 54}. Best is trial 34 with value: 0.8395379694313669.\u001b[0m\n"
          ]
        },
        {
          "output_type": "stream",
          "name": "stdout",
          "text": [
            "MSE: 216627.2112860783\n",
            "R2 Score: 0.7758513696587793\n",
            "Training until validation scores don't improve for 500 rounds.\n",
            "[500]\tvalid_0's l2: 225554\n",
            "[1000]\tvalid_0's l2: 181768\n",
            "[1500]\tvalid_0's l2: 174930\n",
            "[2000]\tvalid_0's l2: 169143\n",
            "[2500]\tvalid_0's l2: 166074\n",
            "[3000]\tvalid_0's l2: 165168\n",
            "[3500]\tvalid_0's l2: 163971\n",
            "[4000]\tvalid_0's l2: 162966\n",
            "[4500]\tvalid_0's l2: 162743\n",
            "[5000]\tvalid_0's l2: 162224\n",
            "[5500]\tvalid_0's l2: 161825\n",
            "[6000]\tvalid_0's l2: 160606\n",
            "[6500]\tvalid_0's l2: 160196\n",
            "[7000]\tvalid_0's l2: 160323\n",
            "[7500]\tvalid_0's l2: 159702\n",
            "[8000]\tvalid_0's l2: 159552\n",
            "[8500]\tvalid_0's l2: 159524\n",
            "Early stopping, best iteration is:\n",
            "[8115]\tvalid_0's l2: 159373\n"
          ]
        },
        {
          "output_type": "stream",
          "name": "stderr",
          "text": [
            "\u001b[32m[I 2021-10-02 07:05:02,605]\u001b[0m Trial 40 finished with value: 0.8350935159521222 and parameters: {'reg_alpha': 1.058563891478802, 'reg_lambda': 0.004819311243789193, 'colsample_bytree': 0.4, 'subsample': 1.0, 'learning_rate': 0.01, 'max_depth': 8, 'num_leaves': 643, 'min_child_samples': 138}. Best is trial 34 with value: 0.8395379694313669.\u001b[0m\n"
          ]
        },
        {
          "output_type": "stream",
          "name": "stdout",
          "text": [
            "MSE: 159372.9647506772\n",
            "R2 Score: 0.8350935159521222\n",
            "Training until validation scores don't improve for 500 rounds.\n",
            "[500]\tvalid_0's l2: 220560\n",
            "[1000]\tvalid_0's l2: 177579\n",
            "[1500]\tvalid_0's l2: 170574\n",
            "[2000]\tvalid_0's l2: 165052\n",
            "[2500]\tvalid_0's l2: 163094\n",
            "[3000]\tvalid_0's l2: 161190\n",
            "[3500]\tvalid_0's l2: 160521\n",
            "[4000]\tvalid_0's l2: 158869\n",
            "[4500]\tvalid_0's l2: 159156\n",
            "Early stopping, best iteration is:\n",
            "[4226]\tvalid_0's l2: 158767\n"
          ]
        },
        {
          "output_type": "stream",
          "name": "stderr",
          "text": [
            "\u001b[32m[I 2021-10-02 07:05:08,389]\u001b[0m Trial 41 finished with value: 0.835720621463115 and parameters: {'reg_alpha': 2.4036144361002485, 'reg_lambda': 0.08533868089118128, 'colsample_bytree': 0.4, 'subsample': 0.6, 'learning_rate': 0.01, 'max_depth': 8, 'num_leaves': 546, 'min_child_samples': 113}. Best is trial 34 with value: 0.8395379694313669.\u001b[0m\n"
          ]
        },
        {
          "output_type": "stream",
          "name": "stdout",
          "text": [
            "MSE: 158766.9020777904\n",
            "R2 Score: 0.835720621463115\n",
            "Training until validation scores don't improve for 500 rounds.\n",
            "[500]\tvalid_0's l2: 216174\n",
            "[1000]\tvalid_0's l2: 174651\n",
            "[1500]\tvalid_0's l2: 167001\n",
            "[2000]\tvalid_0's l2: 162754\n",
            "[2500]\tvalid_0's l2: 160737\n",
            "[3000]\tvalid_0's l2: 158971\n",
            "[3500]\tvalid_0's l2: 157263\n",
            "[4000]\tvalid_0's l2: 156397\n",
            "[4500]\tvalid_0's l2: 155976\n",
            "[5000]\tvalid_0's l2: 155422\n",
            "[5500]\tvalid_0's l2: 155053\n",
            "[6000]\tvalid_0's l2: 154373\n",
            "[6500]\tvalid_0's l2: 154155\n",
            "[7000]\tvalid_0's l2: 153538\n",
            "[7500]\tvalid_0's l2: 153449\n",
            "[8000]\tvalid_0's l2: 153458\n",
            "Early stopping, best iteration is:\n",
            "[7522]\tvalid_0's l2: 153437\n"
          ]
        },
        {
          "output_type": "stream",
          "name": "stderr",
          "text": [
            "\u001b[32m[I 2021-10-02 07:05:18,007]\u001b[0m Trial 42 finished with value: 0.8412350786342494 and parameters: {'reg_alpha': 2.537510156929407, 'reg_lambda': 0.0017767493177498232, 'colsample_bytree': 0.4, 'subsample': 0.6, 'learning_rate': 0.01, 'max_depth': 8, 'num_leaves': 555, 'min_child_samples': 84}. Best is trial 42 with value: 0.8412350786342494.\u001b[0m\n"
          ]
        },
        {
          "output_type": "stream",
          "name": "stdout",
          "text": [
            "MSE: 153437.48526662873\n",
            "R2 Score: 0.8412350786342494\n",
            "Training until validation scores don't improve for 500 rounds.\n",
            "[500]\tvalid_0's l2: 216665\n",
            "[1000]\tvalid_0's l2: 174864\n",
            "[1500]\tvalid_0's l2: 167110\n",
            "[2000]\tvalid_0's l2: 162834\n",
            "[2500]\tvalid_0's l2: 160385\n",
            "[3000]\tvalid_0's l2: 158213\n",
            "[3500]\tvalid_0's l2: 157036\n",
            "[4000]\tvalid_0's l2: 156782\n",
            "[4500]\tvalid_0's l2: 156020\n",
            "[5000]\tvalid_0's l2: 155245\n",
            "[5500]\tvalid_0's l2: 155012\n",
            "[6000]\tvalid_0's l2: 154586\n",
            "[6500]\tvalid_0's l2: 154329\n",
            "[7000]\tvalid_0's l2: 153904\n",
            "[7500]\tvalid_0's l2: 153639\n",
            "[8000]\tvalid_0's l2: 153522\n",
            "Early stopping, best iteration is:\n",
            "[7852]\tvalid_0's l2: 153454\n"
          ]
        },
        {
          "output_type": "stream",
          "name": "stderr",
          "text": [
            "\u001b[32m[I 2021-10-02 07:05:28,297]\u001b[0m Trial 43 finished with value: 0.8412183187511322 and parameters: {'reg_alpha': 2.253908662543209, 'reg_lambda': 0.0017748074966223181, 'colsample_bytree': 0.4, 'subsample': 0.6, 'learning_rate': 0.01, 'max_depth': 8, 'num_leaves': 699, 'min_child_samples': 81}. Best is trial 42 with value: 0.8412350786342494.\u001b[0m\n"
          ]
        },
        {
          "output_type": "stream",
          "name": "stdout",
          "text": [
            "MSE: 153453.6827635113\n",
            "R2 Score: 0.8412183187511322\n",
            "Training until validation scores don't improve for 500 rounds.\n",
            "[500]\tvalid_0's l2: 298607\n",
            "[1000]\tvalid_0's l2: 270587\n",
            "[1500]\tvalid_0's l2: 251705\n",
            "[2000]\tvalid_0's l2: 239884\n",
            "[2500]\tvalid_0's l2: 231556\n",
            "[3000]\tvalid_0's l2: 228483\n",
            "[3500]\tvalid_0's l2: 225570\n",
            "[4000]\tvalid_0's l2: 223618\n",
            "[4500]\tvalid_0's l2: 220792\n",
            "[5000]\tvalid_0's l2: 220243\n",
            "[5500]\tvalid_0's l2: 218102\n",
            "[6000]\tvalid_0's l2: 217318\n",
            "[6500]\tvalid_0's l2: 214583\n",
            "[7000]\tvalid_0's l2: 213828\n",
            "[7500]\tvalid_0's l2: 212477\n",
            "[8000]\tvalid_0's l2: 211988\n",
            "Early stopping, best iteration is:\n",
            "[7741]\tvalid_0's l2: 211278\n"
          ]
        },
        {
          "output_type": "stream",
          "name": "stderr",
          "text": [
            "\u001b[32m[I 2021-10-02 07:05:36,491]\u001b[0m Trial 44 finished with value: 0.781386697276311 and parameters: {'reg_alpha': 1.421784788103028, 'reg_lambda': 0.0020900580998290154, 'colsample_bytree': 0.8, 'subsample': 0.4, 'learning_rate': 0.01, 'max_depth': 5, 'num_leaves': 730, 'min_child_samples': 81}. Best is trial 42 with value: 0.8412350786342494.\u001b[0m\n"
          ]
        },
        {
          "output_type": "stream",
          "name": "stdout",
          "text": [
            "MSE: 211277.6243467546\n",
            "R2 Score: 0.781386697276311\n",
            "Training until validation scores don't improve for 500 rounds.\n",
            "[500]\tvalid_0's l2: 410244\n",
            "[1000]\tvalid_0's l2: 347703\n",
            "[1500]\tvalid_0's l2: 284953\n",
            "[2000]\tvalid_0's l2: 260018\n",
            "[2500]\tvalid_0's l2: 255021\n",
            "[3000]\tvalid_0's l2: 247760\n",
            "[3500]\tvalid_0's l2: 243909\n",
            "[4000]\tvalid_0's l2: 242143\n",
            "[4500]\tvalid_0's l2: 239360\n",
            "[5000]\tvalid_0's l2: 236535\n",
            "[5500]\tvalid_0's l2: 235138\n",
            "[6000]\tvalid_0's l2: 233492\n",
            "[6500]\tvalid_0's l2: 233291\n",
            "[7000]\tvalid_0's l2: 231192\n",
            "[7500]\tvalid_0's l2: 230476\n",
            "[8000]\tvalid_0's l2: 228899\n",
            "[8500]\tvalid_0's l2: 229435\n",
            "Early stopping, best iteration is:\n",
            "[8113]\tvalid_0's l2: 228239\n"
          ]
        },
        {
          "output_type": "stream",
          "name": "stderr",
          "text": [
            "\u001b[32m[I 2021-10-02 07:05:44,657]\u001b[0m Trial 45 finished with value: 0.7638364734094689 and parameters: {'reg_alpha': 8.56126370799143, 'reg_lambda': 0.003199507826128299, 'colsample_bytree': 0.9, 'subsample': 0.6, 'learning_rate': 0.01, 'max_depth': 4, 'num_leaves': 865, 'min_child_samples': 60}. Best is trial 42 with value: 0.8412350786342494.\u001b[0m\n"
          ]
        },
        {
          "output_type": "stream",
          "name": "stdout",
          "text": [
            "MSE: 228238.94170092637\n",
            "R2 Score: 0.7638364734094689\n",
            "Training until validation scores don't improve for 500 rounds.\n",
            "[500]\tvalid_0's l2: 217251\n",
            "[1000]\tvalid_0's l2: 176130\n",
            "[1500]\tvalid_0's l2: 168236\n",
            "[2000]\tvalid_0's l2: 163555\n",
            "[2500]\tvalid_0's l2: 160862\n",
            "[3000]\tvalid_0's l2: 159336\n",
            "[3500]\tvalid_0's l2: 158048\n",
            "[4000]\tvalid_0's l2: 157317\n",
            "[4500]\tvalid_0's l2: 157356\n",
            "Early stopping, best iteration is:\n",
            "[4255]\tvalid_0's l2: 156945\n"
          ]
        },
        {
          "output_type": "stream",
          "name": "stderr",
          "text": [
            "\u001b[32m[I 2021-10-02 07:05:50,937]\u001b[0m Trial 46 finished with value: 0.8376056735995043 and parameters: {'reg_alpha': 0.6211059716600961, 'reg_lambda': 0.03389679892364016, 'colsample_bytree': 0.4, 'subsample': 1.0, 'learning_rate': 0.01, 'max_depth': 8, 'num_leaves': 696, 'min_child_samples': 84}. Best is trial 42 with value: 0.8412350786342494.\u001b[0m\n"
          ]
        },
        {
          "output_type": "stream",
          "name": "stdout",
          "text": [
            "MSE: 156945.10380575433\n",
            "R2 Score: 0.8376056735995043\n",
            "Training until validation scores don't improve for 500 rounds.\n",
            "[500]\tvalid_0's l2: 303115\n",
            "[1000]\tvalid_0's l2: 240574\n",
            "[1500]\tvalid_0's l2: 234796\n",
            "Early stopping, best iteration is:\n",
            "[1380]\tvalid_0's l2: 233414\n"
          ]
        },
        {
          "output_type": "stream",
          "name": "stderr",
          "text": [
            "\u001b[32m[I 2021-10-02 07:05:54,189]\u001b[0m Trial 47 finished with value: 0.7584817019537426 and parameters: {'reg_alpha': 0.47735732847195284, 'reg_lambda': 0.03419587329641571, 'colsample_bytree': 0.3, 'subsample': 1.0, 'learning_rate': 0.01, 'max_depth': 8, 'num_leaves': 689, 'min_child_samples': 38}. Best is trial 42 with value: 0.8412350786342494.\u001b[0m\n"
          ]
        },
        {
          "output_type": "stream",
          "name": "stdout",
          "text": [
            "MSE: 233414.03113048227\n",
            "R2 Score: 0.7584817019537426\n",
            "Training until validation scores don't improve for 500 rounds.\n",
            "[500]\tvalid_0's l2: 277059\n"
          ]
        },
        {
          "output_type": "stream",
          "name": "stderr",
          "text": [
            "\u001b[32m[I 2021-10-02 07:05:55,189]\u001b[0m Trial 48 finished with value: 0.7215810785610361 and parameters: {'reg_alpha': 0.9214320669698142, 'reg_lambda': 0.00675432277656986, 'colsample_bytree': 0.7, 'subsample': 1.0, 'learning_rate': 0.01, 'max_depth': 5, 'num_leaves': 757, 'min_child_samples': 90}. Best is trial 42 with value: 0.8412350786342494.\u001b[0m\n"
          ]
        },
        {
          "output_type": "stream",
          "name": "stdout",
          "text": [
            "Early stopping, best iteration is:\n",
            "[413]\tvalid_0's l2: 269076\n",
            "MSE: 269076.4357060136\n",
            "R2 Score: 0.7215810785610361\n",
            "Training until validation scores don't improve for 500 rounds.\n",
            "[500]\tvalid_0's l2: 218398\n",
            "[1000]\tvalid_0's l2: 176231\n",
            "[1500]\tvalid_0's l2: 167455\n",
            "[2000]\tvalid_0's l2: 163463\n",
            "[2500]\tvalid_0's l2: 161292\n",
            "[3000]\tvalid_0's l2: 159299\n",
            "[3500]\tvalid_0's l2: 158396\n",
            "[4000]\tvalid_0's l2: 157493\n",
            "[4500]\tvalid_0's l2: 156492\n",
            "[5000]\tvalid_0's l2: 156230\n",
            "[5500]\tvalid_0's l2: 155999\n",
            "[6000]\tvalid_0's l2: 155447\n",
            "[6500]\tvalid_0's l2: 154958\n",
            "Early stopping, best iteration is:\n",
            "[6483]\tvalid_0's l2: 154908\n"
          ]
        },
        {
          "output_type": "stream",
          "name": "stderr",
          "text": [
            "\u001b[32m[I 2021-10-02 07:06:05,851]\u001b[0m Trial 49 finished with value: 0.8397134391959094 and parameters: {'reg_alpha': 0.5854543360527265, 'reg_lambda': 0.04745351489809719, 'colsample_bytree': 0.4, 'subsample': 1.0, 'learning_rate': 0.01, 'max_depth': 10, 'num_leaves': 695, 'min_child_samples': 82}. Best is trial 42 with value: 0.8412350786342494.\u001b[0m\n"
          ]
        },
        {
          "output_type": "stream",
          "name": "stdout",
          "text": [
            "MSE: 154908.0653349019\n",
            "R2 Score: 0.8397134391959094\n",
            "Number of finished trials: 50\n",
            "Best trial: {'reg_alpha': 2.537510156929407, 'reg_lambda': 0.0017767493177498232, 'colsample_bytree': 0.4, 'subsample': 0.6, 'learning_rate': 0.01, 'max_depth': 8, 'num_leaves': 555, 'min_child_samples': 84}\n"
          ]
        }
      ]
    },
    {
      "cell_type": "code",
      "metadata": {
        "colab": {
          "base_uri": "https://localhost:8080/"
        },
        "id": "9fkthCRwfoEF",
        "outputId": "3346ef69-773a-400c-816e-c5d13c5c1506"
      },
      "source": [
        "params = study.best_params\n",
        "params"
      ],
      "execution_count": null,
      "outputs": [
        {
          "output_type": "execute_result",
          "data": {
            "text/plain": [
              "{'colsample_bytree': 0.4,\n",
              " 'learning_rate': 0.01,\n",
              " 'max_depth': 8,\n",
              " 'min_child_samples': 84,\n",
              " 'num_leaves': 555,\n",
              " 'reg_alpha': 2.537510156929407,\n",
              " 'reg_lambda': 0.0017767493177498232,\n",
              " 'subsample': 0.6}"
            ]
          },
          "metadata": {},
          "execution_count": 75
        }
      ]
    },
    {
      "cell_type": "code",
      "metadata": {
        "colab": {
          "base_uri": "https://localhost:8080/",
          "height": 382
        },
        "id": "XOIEFWRKvJRY",
        "outputId": "2bc18630-6693-40bc-e97a-3c427198154d"
      },
      "source": [
        "# LightGBM > 파라미터 튜닝 O\n",
        "\n",
        "params = {'colsample_bytree': 0.4,\n",
        "          'learning_rate': 0.08,\n",
        "          'max_depth': 5,\n",
        "          'min_child_samples': 114,\n",
        "          'num_leaves': 204,\n",
        "          'reg_alpha': 0.0010251805749509925,\n",
        "          'reg_lambda': 0.2671750951630589,\n",
        "          'subsample': 1.0}\n",
        "\n",
        "params['n_estimators'] = 7522\n",
        "params['metric'] = 'mse'\n",
        "\n",
        "model = LGBMRegressor(**params)  \n",
        "model.fit(X_train, y_train, \n",
        "         verbose=500, \n",
        "         eval_metric = 'mse')\n",
        "\n",
        "# predict\n",
        "y_pred = model.predict(X_valid)\n",
        "# result\n",
        "plot_result(y_valid, y_pred)"
      ],
      "execution_count": null,
      "outputs": [
        {
          "output_type": "stream",
          "name": "stdout",
          "text": [
            "R2 Score: 0.81940\n"
          ]
        },
        {
          "output_type": "display_data",
          "data": {
            "image/png": "[encoded data removed]",
            "text/plain": [
              "<Figure size 360x360 with 1 Axes>"
            ]
          },
          "metadata": {}
        }
      ]
    },
    {
      "cell_type": "code",
      "metadata": {
        "colab": {
          "base_uri": "https://localhost:8080/",
          "height": 382
        },
        "id": "OP7VTXg8fp2n",
        "outputId": "e6f9979b-adc0-4043-91ae-07f303917051"
      },
      "source": [
        "# month, weekday, weekend 칼럼 추가\n",
        "# LightGBM > 파라미터 튜닝 O 2번째\n",
        "\n",
        "params = {'colsample_bytree': 0.4,\n",
        " 'learning_rate': 0.01,\n",
        " 'max_depth': 8,\n",
        " 'min_child_samples': 84,\n",
        " 'num_leaves': 555,\n",
        " 'reg_alpha': 2.537510156929407,\n",
        " 'reg_lambda': 0.0017767493177498232,\n",
        " 'subsample': 0.6}\n",
        "\n",
        "params['n_estimators'] = 96\n",
        "params['metric'] = 'mse'\n",
        "\n",
        "model = LGBMRegressor(**params)  \n",
        "model.fit(X_train, y_train, \n",
        "         verbose=500, \n",
        "         eval_metric = 'mse')\n",
        "\n",
        "# predict\n",
        "y_pred = model.predict(X_valid)\n",
        "# result\n",
        "plot_result(y_valid, y_pred)"
      ],
      "execution_count": null,
      "outputs": [
        {
          "output_type": "stream",
          "name": "stdout",
          "text": [
            "R2 Score: 0.71032\n"
          ]
        },
        {
          "output_type": "display_data",
          "data": {
            "image/png": "[encoded data removed]",
            "text/plain": [
              "<Figure size 360x360 with 1 Axes>"
            ]
          },
          "metadata": {}
        }
      ]
    },
    {
      "cell_type": "markdown",
      "metadata": {
        "id": "Gn3P_Lu7pi-c"
      },
      "source": [
        "### K-Fold "
      ]
    },
    {
      "cell_type": "code",
      "metadata": {
        "colab": {
          "base_uri": "https://localhost:8080/"
        },
        "id": "YV1DV6_zpmcj",
        "outputId": "e27debb0-c868-43be-d5fd-83a8d0045531"
      },
      "source": [
        "from sklearn.model_selection import KFold\n",
        "\n",
        "# split 개수\n",
        "split = 10\n",
        "\n",
        "# 10-fold cross-validation\n",
        "kf = KFold(n_splits= split,random_state=42,shuffle=True)\n",
        "\n",
        "# LGBMRegressor > 파라미터 튜닝 O\n",
        "model = LGBMRegressor(**params)\n",
        "\n",
        "eval_r2=[]  # 매 fold 마다 smape 값 저장할 list\n",
        "n=0      # fold 번호\n",
        "\n",
        "for trn_idx, test_idx in kf.split(X, y):\n",
        "    X_tr, X_val = X[trn_idx], X[test_idx]\n",
        "    y_tr, y_val = y[trn_idx], y[test_idx]\n",
        "\n",
        "    model.fit(X_tr,y_tr,\n",
        "              eval_set=[(X_val,y_val)],\n",
        "              early_stopping_rounds=200,\n",
        "              verbose=False)\n",
        "\n",
        "    eval_r2.append(r2_score(y_val, model.predict(X_val)))\n",
        "    print(n+1,eval_r2[n])\n",
        "    n+=1"
      ],
      "execution_count": null,
      "outputs": [
        {
          "output_type": "stream",
          "name": "stdout",
          "text": [
            "1 0.7758375031375427\n",
            "2 0.7637895812390988\n",
            "3 0.7737494619558032\n",
            "4 0.7864842178631632\n",
            "5 0.798133411455254\n",
            "6 0.7838714846824014\n",
            "7 0.7753112384146357\n",
            "8 0.7833530721347088\n",
            "9 0.7600914982985634\n",
            "10 0.7966791954776102\n"
          ]
        }
      ]
    },
    {
      "cell_type": "code",
      "metadata": {
        "colab": {
          "base_uri": "https://localhost:8080/"
        },
        "id": "WoDaD84upmSP",
        "outputId": "1131829f-aa2d-4357-dec9-aba37eca50c4"
      },
      "source": [
        "print('KFold Mean R2 Score: {}'.format(np.mean(eval_r2)))"
      ],
      "execution_count": null,
      "outputs": [
        {
          "output_type": "stream",
          "name": "stdout",
          "text": [
            "KFold Mean R2 Score: 0.7797300664658782\n"
          ]
        }
      ]
    },
    {
      "cell_type": "markdown",
      "metadata": {
        "id": "qPVFpTEeQNpl"
      },
      "source": [
        "### 신경망 "
      ]
    },
    {
      "cell_type": "code",
      "metadata": {
        "ExecuteTime": {
          "end_time": "2021-07-12T09:17:48.997233Z",
          "start_time": "2021-07-12T09:17:23.877244Z"
        },
        "colab": {
          "base_uri": "https://localhost:8080/",
          "height": 452
        },
        "id": "u6Uh91yvQNpl",
        "outputId": "e7308e0f-f2e3-4bd1-ab22-7ab3bcb6974b"
      },
      "source": [
        "from sklearn.neural_network import MLPRegressor\n",
        "\n",
        "clf = MLPRegressor(\n",
        "    hidden_layer_sizes=(128, 128),\n",
        "    activation='relu',\n",
        "    solver='adam',\n",
        "    alpha=0.0001,\n",
        "    learning_rate='adaptive',\n",
        "    learning_rate_init=1e-3,\n",
        "    max_iter=200,\n",
        ")\n",
        "clf.fit(X_train, y_train)\n",
        "y_pred = clf.predict(X_valid)\n",
        "\n",
        "plot_result(y_valid, y_pred)"
      ],
      "execution_count": null,
      "outputs": [
        {
          "output_type": "stream",
          "name": "stderr",
          "text": [
            "/usr/local/lib/python3.7/dist-packages/sklearn/neural_network/_multilayer_perceptron.py:571: ConvergenceWarning:\n",
            "\n",
            "Stochastic Optimizer: Maximum iterations (200) reached and the optimization hasn't converged yet.\n",
            "\n"
          ]
        },
        {
          "output_type": "stream",
          "name": "stdout",
          "text": [
            "R2 Score: 0.51858\n"
          ]
        },
        {
          "output_type": "display_data",
          "data": {
            "image/png": "[encoded data removed]",
            "text/plain": [
              "<Figure size 360x360 with 1 Axes>"
            ]
          },
          "metadata": {}
        }
      ]
    },
    {
      "cell_type": "markdown",
      "metadata": {
        "id": "JM061Qv3QNpl"
      },
      "source": [
        "## 앙상블"
      ]
    },
    {
      "cell_type": "code",
      "metadata": {
        "ExecuteTime": {
          "end_time": "2021-07-12T09:18:01.644986Z",
          "start_time": "2021-07-12T09:17:48.998177Z"
        },
        "colab": {
          "base_uri": "https://localhost:8080/",
          "height": 452
        },
        "id": "PBWW7ABGQNpm",
        "outputId": "cc2001c5-8767-4f20-8690-98e787f8b1a1"
      },
      "source": [
        "from sklearn.ensemble import VotingRegressor\n",
        "\n",
        "model_lr = LinearRegression()\n",
        "model_lgbm = LGBMRegressor()\n",
        "model_mlp = MLPRegressor()\n",
        "estimators = [\n",
        "    ('linear regression', model_lr),\n",
        "    ('lgbm', model_lgbm),\n",
        "    ('mlp', model_mlp)\n",
        "]\n",
        "\n",
        "voting_clf = VotingRegressor(estimators=estimators)\n",
        "voting_clf.fit(X_train, y_train)\n",
        "y_pred = voting_clf.predict(X_valid)\n",
        "\n",
        "plot_result(y_valid, y_pred)"
      ],
      "execution_count": null,
      "outputs": [
        {
          "output_type": "stream",
          "name": "stderr",
          "text": [
            "/usr/local/lib/python3.7/dist-packages/sklearn/neural_network/_multilayer_perceptron.py:571: ConvergenceWarning:\n",
            "\n",
            "Stochastic Optimizer: Maximum iterations (200) reached and the optimization hasn't converged yet.\n",
            "\n"
          ]
        },
        {
          "output_type": "stream",
          "name": "stdout",
          "text": [
            "R2 Score: 0.57934\n"
          ]
        },
        {
          "output_type": "display_data",
          "data": {
            "image/png": "[encoded data removed]",
            "text/plain": [
              "<Figure size 360x360 with 1 Axes>"
            ]
          },
          "metadata": {}
        }
      ]
    },
    {
      "cell_type": "code",
      "metadata": {
        "ExecuteTime": {
          "end_time": "2021-07-12T09:18:03.230522Z",
          "start_time": "2021-07-12T09:18:01.645990Z"
        },
        "colab": {
          "base_uri": "https://localhost:8080/",
          "height": 382
        },
        "id": "e5TRYeuYQNpm",
        "outputId": "8d9259bf-5dee-47b5-a3fd-490da94c4e47"
      },
      "source": [
        "from sklearn.ensemble import VotingRegressor\n",
        "\n",
        "\n",
        "model_lgbm1 = LGBMRegressor(num_leaves=30)\n",
        "model_lgbm2 = LGBMRegressor(num_leaves=60)\n",
        "model_lgbm3 = LGBMRegressor(num_leaves=90)\n",
        "estimators = [\n",
        "    ('lgbm1', model_lgbm1),\n",
        "    ('lgbm2', model_lgbm2),\n",
        "    ('lgbm3', model_lgbm3),\n",
        "]\n",
        "\n",
        "voting_clf = VotingRegressor(estimators=estimators)\n",
        "voting_clf.fit(X_train, y_train)\n",
        "y_pred = voting_clf.predict(X_valid)\n",
        "\n",
        "plot_result(y_valid, y_pred)"
      ],
      "execution_count": null,
      "outputs": [
        {
          "output_type": "stream",
          "name": "stdout",
          "text": [
            "R2 Score: 0.66518\n"
          ]
        },
        {
          "output_type": "display_data",
          "data": {
            "image/png": "[encoded data removed]",
            "text/plain": [
              "<Figure size 360x360 with 1 Axes>"
            ]
          },
          "metadata": {}
        }
      ]
    },
    {
      "cell_type": "markdown",
      "metadata": {
        "id": "MtqHCcP2QNpm"
      },
      "source": [
        "# 결과 제출"
      ]
    },
    {
      "cell_type": "code",
      "metadata": {
        "ExecuteTime": {
          "end_time": "2021-07-12T09:18:03.262037Z",
          "start_time": "2021-07-12T09:18:03.232524Z"
        },
        "id": "0sOCppSwQNpm"
      },
      "source": [
        "# X_test = df_test_preprocess.drop(['Date'], axis=1)\n",
        "# y_pred = model.predict(X_test)"
      ],
      "execution_count": null,
      "outputs": []
    },
    {
      "cell_type": "code",
      "metadata": {
        "colab": {
          "base_uri": "https://localhost:8080/",
          "height": 424
        },
        "id": "bcuNK8VqymBB",
        "outputId": "e11f7992-8dc9-40e0-d780-56d2e42eb6c2"
      },
      "source": [
        "X_test"
      ],
      "execution_count": null,
      "outputs": [
        {
          "output_type": "execute_result",
          "data": {
            "text/html": [
              "<div>\n",
              "<style scoped>\n",
              "    .dataframe tbody tr th:only-of-type {\n",
              "        vertical-align: middle;\n",
              "    }\n",
              "\n",
              "    .dataframe tbody tr th {\n",
              "        vertical-align: top;\n",
              "    }\n",
              "\n",
              "    .dataframe thead th {\n",
              "        text-align: right;\n",
              "    }\n",
              "</style>\n",
              "<table border=\"1\" class=\"dataframe\">\n",
              "  <thead>\n",
              "    <tr style=\"text-align: right;\">\n",
              "      <th></th>\n",
              "      <th>Hour</th>\n",
              "      <th>Temperature</th>\n",
              "      <th>Rainfall</th>\n",
              "      <th>Windspeed</th>\n",
              "      <th>Humidity</th>\n",
              "      <th>Dewpoint</th>\n",
              "      <th>Snow</th>\n",
              "      <th>Visibility</th>\n",
              "      <th>Year</th>\n",
              "      <th>Month</th>\n",
              "      <th>Weekday</th>\n",
              "      <th>Weekend</th>\n",
              "    </tr>\n",
              "  </thead>\n",
              "  <tbody>\n",
              "    <tr>\n",
              "      <th>0</th>\n",
              "      <td>-1.517594</td>\n",
              "      <td>-2.246986</td>\n",
              "      <td>-0.130954</td>\n",
              "      <td>0.166884</td>\n",
              "      <td>0.266523</td>\n",
              "      <td>-1.717271</td>\n",
              "      <td>-0.100834</td>\n",
              "      <td>0.923574</td>\n",
              "      <td>2021</td>\n",
              "      <td>1</td>\n",
              "      <td>4</td>\n",
              "      <td>0</td>\n",
              "    </tr>\n",
              "    <tr>\n",
              "      <th>1</th>\n",
              "      <td>-1.373110</td>\n",
              "      <td>-2.286023</td>\n",
              "      <td>-0.130954</td>\n",
              "      <td>-0.529027</td>\n",
              "      <td>0.317539</td>\n",
              "      <td>-1.734339</td>\n",
              "      <td>-0.100834</td>\n",
              "      <td>0.923574</td>\n",
              "      <td>2021</td>\n",
              "      <td>1</td>\n",
              "      <td>4</td>\n",
              "      <td>0</td>\n",
              "    </tr>\n",
              "    <tr>\n",
              "      <th>2</th>\n",
              "      <td>-1.228626</td>\n",
              "      <td>-2.305542</td>\n",
              "      <td>-0.130954</td>\n",
              "      <td>-0.963971</td>\n",
              "      <td>0.368555</td>\n",
              "      <td>-1.734339</td>\n",
              "      <td>-0.100834</td>\n",
              "      <td>0.923574</td>\n",
              "      <td>2021</td>\n",
              "      <td>1</td>\n",
              "      <td>4</td>\n",
              "      <td>0</td>\n",
              "    </tr>\n",
              "    <tr>\n",
              "      <th>3</th>\n",
              "      <td>-1.084142</td>\n",
              "      <td>-2.305542</td>\n",
              "      <td>-0.130954</td>\n",
              "      <td>-1.659882</td>\n",
              "      <td>0.419571</td>\n",
              "      <td>-1.717271</td>\n",
              "      <td>-0.100834</td>\n",
              "      <td>0.923574</td>\n",
              "      <td>2021</td>\n",
              "      <td>1</td>\n",
              "      <td>4</td>\n",
              "      <td>0</td>\n",
              "    </tr>\n",
              "    <tr>\n",
              "      <th>4</th>\n",
              "      <td>-0.939658</td>\n",
              "      <td>-2.344579</td>\n",
              "      <td>-0.130954</td>\n",
              "      <td>-0.268060</td>\n",
              "      <td>0.470587</td>\n",
              "      <td>-1.742873</td>\n",
              "      <td>-0.100834</td>\n",
              "      <td>0.923574</td>\n",
              "      <td>2021</td>\n",
              "      <td>1</td>\n",
              "      <td>4</td>\n",
              "      <td>0</td>\n",
              "    </tr>\n",
              "    <tr>\n",
              "      <th>...</th>\n",
              "      <td>...</td>\n",
              "      <td>...</td>\n",
              "      <td>...</td>\n",
              "      <td>...</td>\n",
              "      <td>...</td>\n",
              "      <td>...</td>\n",
              "      <td>...</td>\n",
              "      <td>...</td>\n",
              "      <td>...</td>\n",
              "      <td>...</td>\n",
              "      <td>...</td>\n",
              "      <td>...</td>\n",
              "    </tr>\n",
              "    <tr>\n",
              "      <th>714</th>\n",
              "      <td>1.083118</td>\n",
              "      <td>-0.675730</td>\n",
              "      <td>-0.130954</td>\n",
              "      <td>-1.137949</td>\n",
              "      <td>-0.549733</td>\n",
              "      <td>-0.718786</td>\n",
              "      <td>-0.100834</td>\n",
              "      <td>0.923574</td>\n",
              "      <td>2021</td>\n",
              "      <td>1</td>\n",
              "      <td>6</td>\n",
              "      <td>1</td>\n",
              "    </tr>\n",
              "    <tr>\n",
              "      <th>715</th>\n",
              "      <td>1.227602</td>\n",
              "      <td>-0.734286</td>\n",
              "      <td>-0.130954</td>\n",
              "      <td>-0.703005</td>\n",
              "      <td>-0.549733</td>\n",
              "      <td>-0.761457</td>\n",
              "      <td>-0.100834</td>\n",
              "      <td>0.923574</td>\n",
              "      <td>2021</td>\n",
              "      <td>1</td>\n",
              "      <td>6</td>\n",
              "      <td>1</td>\n",
              "    </tr>\n",
              "    <tr>\n",
              "      <th>716</th>\n",
              "      <td>1.372086</td>\n",
              "      <td>-0.763564</td>\n",
              "      <td>-0.130954</td>\n",
              "      <td>-0.963971</td>\n",
              "      <td>-0.447701</td>\n",
              "      <td>-0.744389</td>\n",
              "      <td>-0.100834</td>\n",
              "      <td>0.923574</td>\n",
              "      <td>2021</td>\n",
              "      <td>1</td>\n",
              "      <td>6</td>\n",
              "      <td>1</td>\n",
              "    </tr>\n",
              "    <tr>\n",
              "      <th>717</th>\n",
              "      <td>1.516570</td>\n",
              "      <td>-0.783082</td>\n",
              "      <td>-0.130954</td>\n",
              "      <td>-0.703005</td>\n",
              "      <td>-0.243637</td>\n",
              "      <td>-0.676116</td>\n",
              "      <td>-0.100834</td>\n",
              "      <td>0.923574</td>\n",
              "      <td>2021</td>\n",
              "      <td>1</td>\n",
              "      <td>6</td>\n",
              "      <td>1</td>\n",
              "    </tr>\n",
              "    <tr>\n",
              "      <th>718</th>\n",
              "      <td>1.661054</td>\n",
              "      <td>-0.831879</td>\n",
              "      <td>-0.130954</td>\n",
              "      <td>-0.789993</td>\n",
              "      <td>-0.141605</td>\n",
              "      <td>-0.676116</td>\n",
              "      <td>-0.100834</td>\n",
              "      <td>0.923574</td>\n",
              "      <td>2021</td>\n",
              "      <td>1</td>\n",
              "      <td>6</td>\n",
              "      <td>1</td>\n",
              "    </tr>\n",
              "  </tbody>\n",
              "</table>\n",
              "<p>719 rows × 12 columns</p>\n",
              "</div>"
            ],
            "text/plain": [
              "         Hour  Temperature  Rainfall  Windspeed  ...  Year  Month  Weekday  Weekend\n",
              "0   -1.517594    -2.246986 -0.130954   0.166884  ...  2021      1        4        0\n",
              "1   -1.373110    -2.286023 -0.130954  -0.529027  ...  2021      1        4        0\n",
              "2   -1.228626    -2.305542 -0.130954  -0.963971  ...  2021      1        4        0\n",
              "3   -1.084142    -2.305542 -0.130954  -1.659882  ...  2021      1        4        0\n",
              "4   -0.939658    -2.344579 -0.130954  -0.268060  ...  2021      1        4        0\n",
              "..        ...          ...       ...        ...  ...   ...    ...      ...      ...\n",
              "714  1.083118    -0.675730 -0.130954  -1.137949  ...  2021      1        6        1\n",
              "715  1.227602    -0.734286 -0.130954  -0.703005  ...  2021      1        6        1\n",
              "716  1.372086    -0.763564 -0.130954  -0.963971  ...  2021      1        6        1\n",
              "717  1.516570    -0.783082 -0.130954  -0.703005  ...  2021      1        6        1\n",
              "718  1.661054    -0.831879 -0.130954  -0.789993  ...  2021      1        6        1\n",
              "\n",
              "[719 rows x 12 columns]"
            ]
          },
          "metadata": {},
          "execution_count": 67
        }
      ]
    },
    {
      "cell_type": "code",
      "metadata": {
        "id": "2L8lb1TJyY2-"
      },
      "source": [
        "df_test = pd.read_csv('./new_test1(1).csv')\n",
        "X_test = df_test.drop(['Date'], axis=1)\n",
        "y_pred = model.predict(X_test)"
      ],
      "execution_count": 2,
      "outputs": []
    },
    {
      "cell_type": "code",
      "metadata": {
        "id": "cTNvhxiKbWG2"
      },
      "source": [
        "today = datetime.now().strftime(\"%Y%m%d_%H%M%S\")\n",
        "submission = pd.DataFrame(y_pred, columns=['Rent Amount'])\n",
        "submission['id'] = submission.index\n",
        "submission.to_csv(f'./submission_{today}.csv', index=False)"
      ],
      "execution_count": null,
      "outputs": []
    },
    {
      "cell_type": "code",
      "metadata": {
        "colab": {
          "base_uri": "https://localhost:8080/",
          "height": 424
        },
        "id": "aLFL3Blanj_U",
        "outputId": "ba17baff-ad09-48cc-bc45-168ca05bacad"
      },
      "source": [
        "submission"
      ],
      "execution_count": null,
      "outputs": [
        {
          "output_type": "execute_result",
          "data": {
            "text/html": [
              "<div>\n",
              "<style scoped>\n",
              "    .dataframe tbody tr th:only-of-type {\n",
              "        vertical-align: middle;\n",
              "    }\n",
              "\n",
              "    .dataframe tbody tr th {\n",
              "        vertical-align: top;\n",
              "    }\n",
              "\n",
              "    .dataframe thead th {\n",
              "        text-align: right;\n",
              "    }\n",
              "</style>\n",
              "<table border=\"1\" class=\"dataframe\">\n",
              "  <thead>\n",
              "    <tr style=\"text-align: right;\">\n",
              "      <th></th>\n",
              "      <th>Rent Amount</th>\n",
              "      <th>id</th>\n",
              "    </tr>\n",
              "  </thead>\n",
              "  <tbody>\n",
              "    <tr>\n",
              "      <th>0</th>\n",
              "      <td>464.557592</td>\n",
              "      <td>0</td>\n",
              "    </tr>\n",
              "    <tr>\n",
              "      <th>1</th>\n",
              "      <td>353.981371</td>\n",
              "      <td>1</td>\n",
              "    </tr>\n",
              "    <tr>\n",
              "      <th>2</th>\n",
              "      <td>186.738797</td>\n",
              "      <td>2</td>\n",
              "    </tr>\n",
              "    <tr>\n",
              "      <th>3</th>\n",
              "      <td>100.797528</td>\n",
              "      <td>3</td>\n",
              "    </tr>\n",
              "    <tr>\n",
              "      <th>4</th>\n",
              "      <td>84.673258</td>\n",
              "      <td>4</td>\n",
              "    </tr>\n",
              "    <tr>\n",
              "      <th>...</th>\n",
              "      <td>...</td>\n",
              "      <td>...</td>\n",
              "    </tr>\n",
              "    <tr>\n",
              "      <th>714</th>\n",
              "      <td>2534.381515</td>\n",
              "      <td>714</td>\n",
              "    </tr>\n",
              "    <tr>\n",
              "      <th>715</th>\n",
              "      <td>2267.240897</td>\n",
              "      <td>715</td>\n",
              "    </tr>\n",
              "    <tr>\n",
              "      <th>716</th>\n",
              "      <td>2318.432491</td>\n",
              "      <td>716</td>\n",
              "    </tr>\n",
              "    <tr>\n",
              "      <th>717</th>\n",
              "      <td>1943.156107</td>\n",
              "      <td>717</td>\n",
              "    </tr>\n",
              "    <tr>\n",
              "      <th>718</th>\n",
              "      <td>1526.208163</td>\n",
              "      <td>718</td>\n",
              "    </tr>\n",
              "  </tbody>\n",
              "</table>\n",
              "<p>719 rows × 2 columns</p>\n",
              "</div>"
            ],
            "text/plain": [
              "     Rent Amount   id\n",
              "0     464.557592    0\n",
              "1     353.981371    1\n",
              "2     186.738797    2\n",
              "3     100.797528    3\n",
              "4      84.673258    4\n",
              "..           ...  ...\n",
              "714  2534.381515  714\n",
              "715  2267.240897  715\n",
              "716  2318.432491  716\n",
              "717  1943.156107  717\n",
              "718  1526.208163  718\n",
              "\n",
              "[719 rows x 2 columns]"
            ]
          },
          "metadata": {},
          "execution_count": 50
        }
      ]
    }
  ]
}